{
 "cells": [
  {
   "cell_type": "markdown",
   "id": "0a9d2ee5",
   "metadata": {},
   "source": [
    "# Exploring Code with fastcore.tools\n",
    "\n",
    "Author: Jonathan Whitaker\n",
    "\n",
    "Purpose: Show off fastcore.tools and solveit tool use\n",
    "\n",
    "Summary: We clone an unfamiliar github repo, and give solveit tools to read files + search, then learn about the code\n"
   ]
  },
  {
   "cell_type": "markdown",
   "id": "77cdfa51",
   "metadata": {},
   "source": [
    "## Cloning a Repo\n",
    "\n",
    "Here we grab dialoghelper - in a somewhat meta way, we'll use it to learn how it works!"
   ]
  },
  {
   "cell_type": "code",
   "execution_count": null,
   "id": "6013fae7",
   "metadata": {},
   "outputs": [],
   "source": [
    "!git clone https://github.com/AnswerDotAI/dialoghelper -q"
   ]
  },
  {
   "cell_type": "code",
   "execution_count": null,
   "id": "04298023",
   "metadata": {},
   "outputs": [
    {
     "name": "stdout",
     "output_type": "stream",
     "text": [
      "CHANGELOG.md   LICENSE        \u001b[34mnbs\u001b[m\u001b[m            README.md      setup.py\r\n",
      "\u001b[34mdialoghelper\u001b[m\u001b[m   MANIFEST.in    pyproject.toml settings.ini\r\n"
     ]
    }
   ],
   "source": [
    "!ls dialoghelper/"
   ]
  },
  {
   "cell_type": "markdown",
   "id": "a54bf602",
   "metadata": {},
   "source": [
    "## Listing the tools\n",
    "\n",
    "Here's how you get a list of file-editing-relevant tools - run just the first message in this section after un-commenting it the line that calls `fc_tool_info`, and it will add the next two messages."
   ]
  },
  {
   "cell_type": "code",
   "execution_count": null,
   "id": "45b251d2",
   "metadata": {
    "time_run": "12:50:57p"
   },
   "outputs": [],
   "source": [
    "from dialoghelper.core import fc_tool_info\n",
    "# fc_tool_info()"
   ]
  },
  {
   "cell_type": "code",
   "execution_count": null,
   "id": "a5fd95a9",
   "metadata": {
    "time_run": "12:43:53p"
   },
   "outputs": [],
   "source": [
    "from fastcore.tools import *"
   ]
  },
  {
   "cell_type": "markdown",
   "id": "1168ee34",
   "metadata": {},
   "source": [
    "Tools available from `fastcore.tools`:\n",
    "\n",
    "- &`rg`: Run the `rg` command with the args in `argstr` (no need to backslash escape)\n",
    "- &`sed`: Run the `sed` command with the args in `argstr` (e.g for reading a section of a file)\n",
    "- &`view`: View directory or file contents with optional line range and numbers\n",
    "- &`create`: Creates a new file with the given content at the specified path\n",
    "- &`insert`: Insert new_str at specified line number\n",
    "- &`str_replace`: Replace first occurrence of old_str with new_str in file\n",
    "- &`strs_replace`: Replace for each str pair in old_strs,new_strs\n",
    "- &`replace_lines`: Replace lines in file using start and end line-numbers"
   ]
  },
  {
   "cell_type": "markdown",
   "id": "74cad71f",
   "metadata": {},
   "source": [
    "We can also list the normal dialoghelper tools:"
   ]
  },
  {
   "cell_type": "code",
   "execution_count": null,
   "id": "9676d758",
   "metadata": {
    "time_run": "12:42:27p"
   },
   "outputs": [],
   "source": [
    "from dialoghelper.core import *\n",
    "tool_info()"
   ]
  },
  {
   "cell_type": "markdown",
   "id": "6750968d",
   "metadata": {},
   "source": [
    "Tools available from `dialoghelper`:\n",
    "\n",
    "- &`curr_dialog`: Get the current dialog info.\n",
    "- &`msg_idx`: Get absolute index of message in dialog.\n",
    "- &`add_html`: Send HTML to the browser to be swapped into the DOM using hx-swap-oob.\n",
    "- &`find_msg_id`: Get the current message id.\n",
    "- &`find_msgs`: Find messages in current specific dialog that contain the given information.\n",
    "  - (solveit can often get this id directly from its context, and will not need to use this if the required information is already available to it.)\n",
    "- &`read_msg`: Get the message indexed in the current dialog.\n",
    "- &`del_msg`: Delete a message from the dialog.\n",
    "- &`add_msg`: Add/update a message to the queue to show after code execution completes.\n",
    "- &`update_msg`: Update an existing message.\n",
    "- &`url2note`: Read URL as markdown, and add a note below current message with the result"
   ]
  },
  {
   "cell_type": "markdown",
   "id": "c6872826",
   "metadata": {},
   "source": [
    "## Asking solveit to explore the code\n",
    "\n",
    "Since all those tools are imported, and are also mentioned in the note messages using the special &` syntax, solveit can access them and use them!"
   ]
  },
  {
   "cell_type": "markdown",
   "id": "c1dfd0f0",
   "metadata": {
    "solveit_ai": true
   },
   "source": [
    "Hey solveit :) Can you use the file tools to tell me more about how these *info functions in dialoghelper work?\n",
    "\n",
    "##### 🤖Reply🤖<!-- SOLVEIT_SEPARATOR_7f3a9b2c -->\n",
    "\n",
    "I'd be happy to help you explore how those `*info` functions work in dialoghelper! Let me start by looking at the structure of the dialoghelper directory and then examining the relevant code.\n",
    "<details class='tool-usage-details'>\n",
    "\n",
    " `view({\"path\": \"dialoghelper\"})`\n",
    "  - `&#x27;Directory contents of /Users/johno/aai-ws/solveit/data/solveit_demos/dialoghelper:\\n/Users/johno/aai-ws/solveit/data/solveit_demos/dialoghelper/LICENSE\\n/Users/johno/aai-ws/solveit/data/solveit_demos/dialoghelper/CHANGELOG.md\\n/Users/johno/aai-ws/solveit/data/solveit_demos/dialoghelper/nbs\\n/Users/johno/aai-ws/solveit/data/solveit_demos/dialoghelper/pyproject.toml\\n/Users/johno/aai-ws/solveit/data/solveit_demos/dialoghelper/dialoghelper\\n/Users/johno/aai-ws/solveit/data/solveit_demos/dialoghelper/MANIFEST.in\\n/Users/johno/aai-ws/solveit/data/solveit_demos/dialoghelper/README.md\\n/Users/johno/aai-ws/solveit/data/solveit_demos/dialoghelper/setup.py\\n/Users/johno/aai-ws/solveit/data/solveit_demos/dialoghelper/settings.ini\\n/Users/johno/aai-ws/solveit/data/solveit_demos/dialoghelper/nbs/00_core.ipynb\\n/Users/johno/aai-ws/solveit/data/solveit_demos/dialoghelper/nbs/_quarto.yml\\n/Users/johno/aai-ws/solveit/data/solveit_demos/dialoghelper/nbs/styles.css\\n/Users/johno/aai-ws/solveit/data/solveit_demos/dialoghelper/nbs/01_experimental.ipynb\\n/Users/johno/aai-ws/solveit/data/solveit_demos/dialoghelper/nbs/nbdev.yml\\n/Users/johno/aai-ws/solveit/data/solveit_demos/dialoghelper/nbs/index.ipynb\\n/Users/johno/aai-ws/solveit/data/solveit_demos/dialoghelper/dialoghelper/experimental.py\\n/Users/johno/aai-ws/solveit/data/solveit_demos/dialoghelper/dialoghelper/_modidx.py\\n/Users/johno/aai-ws/solveit/data/solveit_demos/dialoghelper/dialoghelper/__init__.py\\n/Users/johno/aai-ws/solveit/data/solveit_demos/dialoghelper/dialoghelper/core.py\\n/Users/johno/aai-ws/solveit/data/solveit_demos/dialoghelper/dialoghelper/db_dc.py\\n/Users/johno/aai-ws/solveit/data/solveit_demos/dialoghelper/dialoghelper/screenshot.js&#x27;`\n",
    "\n",
    "</details>\n",
    "\n",
    "\n",
    "\n",
    "Now let me search for the `*info` functions in the core module:\n",
    "<details class='tool-usage-details'>\n",
    "\n",
    " `rg({\"argstr\": \"def.*info dialoghelper/dialoghelper/core.py\"})`\n",
    "  - `&quot;Error running cmd: [Errno 2] No such file or directory: &#x27;rg&#x27;&quot;`\n",
    "\n",
    "</details>\n",
    "\n",
    "\n",
    "\n",
    "Let me try viewing the core.py file directly to find these functions:\n",
    "<details class='tool-usage-details'>\n",
    "\n",
    " `view({\"path\": \"dialoghelper/dialoghelper/core.py\"})`\n",
    "  - `&#x27;# AUTOGENERATED! DO NOT EDIT! File to edit: ../nbs/00_core.ipynb.\\n\\n# %% auto 0\\n__all__ = [\\&#x27;Placements\\&#x27;, \\&#x27;empty\\&#x27;, \\&#x27;find_var\\&#x27;, \\&#x27;call_endp\\&#x27;, \\&#x27;find_dname\\&#x27;, \\&#x27;find_msg_id\\&#x27;, \\&#x27;curr_dialog\\&#x27;, \\&#x27;find_msgs\\&#x27;, \\&#x27;msg_idx\\&#x27;,\\n           \\&#x27;read_msg\\&#x27;, \\&#x27;add_html\\&#x27;, \\&#x27;run_msg\\&#x27;, \\&#x27;add_msg\\&#x27;, \\&#x27;del_msg\\&#x27;, \\&#x27;update_msg\\&#x27;, \\&#x27;url2note\\&#x27;, \\&#x27;ast_py\\&#x27;, \\&#x27;ast_grep\\&#x27;,\\n           \\&#x27;load_gist\\&#x27;, \\&#x27;gist_file\\&#x27;, \\&#x27;import_string\\&#x27;, \\&#x27;is_usable_tool\\&#x27;, \\&#x27;mk_toollist\\&#x27;, \\&#x27;import_gist\\&#x27;, \\&#x27;tool_info\\&#x27;,\\n           \\&#x27;fc_tool_info\\&#x27;, \\&#x27;asdict\\&#x27;]\\n\\n# %% ../nbs/00_core.ipynb\\nimport json, importlib, linecache\\nfrom typing import Dict\\nfrom tempfile import TemporaryDirectory\\nfrom ipykernel_helper import *\\nfrom dataclasses import dataclass\\nfrom fastcore.xml import to_xml\\n\\nfrom fastcore.utils import *\\nfrom fastcore.meta import delegates\\nfrom ghapi.all import *\\nfrom fastlite import *\\nfrom fastcore.xtras import asdict\\nfrom inspect import currentframe,Parameter,signature\\nfrom httpx import get as xget, post as xpost\\nfrom .core import __all__ as _all\\nfrom IPython.display import display,Markdown\\n\\n# %% ../nbs/00_core.ipynb\\n_all_ = [&quot;asdict&quot;]\\n\\n# %% ../nbs/00_core.ipynb\\ndef find_var(var:str):\\n    &quot;Search for var in all frames of the call stack&quot;\\n    frame = currentframe()\\n    while frame:\\n        dv = frame.f_globals.get(var, frame.f_locals.get(var, None))\\n        if dv: return dv\\n        frame = frame.f_back\\n    raise ValueError(f&quot;Could not find {var} in any scope&quot;)\\n\\n# %% ../nbs/00_core.ipynb\\ndef call_endp(path, dname=\\&#x27;\\&#x27;, json=False, raiseex=False, **data):\\n    if not dname: dname = find_dname()\\n    data[\\&#x27;dlg_name\\&#x27;] = dname\\n    res = xpost(f…`\n",
    "\n",
    "</details>\n",
    "\n",
    "\n",
    "\n",
    "Great! I found them. Let me look at the specific implementations of `tool_info()` and `fc_tool_info()`. I can see them near the end of the file. Let me get a clearer view of just those functions:\n",
    "<details class='tool-usage-details'>\n",
    "\n",
    " `sed({\"argstr\": \"-n '319,342p' dialoghelper/dialoghelper/core.py\"})`\n",
    "  - `&quot;    add_msg(cts)\\n    add_msg(&#x27;from fastcore.tools import *&#x27;, msg_type=&#x27;code&#x27;)\\n&quot;`\n",
    "\n",
    "</details>\n",
    "\n",
    "\n",
    "\n",
    "Let me get the right line numbers:\n",
    "<details class='tool-usage-details'>\n",
    "\n",
    " `view({\"path\": \"dialoghelper/dialoghelper/core.py\", \"nums\": true, \"view_range\": [310,342]})`\n",
    "  - `&#x27;Error: Invalid end line 342&#x27;`\n",
    "\n",
    "</details>\n",
    "\n",
    "\n",
    "<details class='tool-usage-details'>\n",
    "\n",
    " `view({\"path\": \"dialoghelper/dialoghelper/core.py\", \"nums\": true, \"view_range\": [310,-1]})`\n",
    "  - `&quot;   310 │ \\n   311 │ - &amp;rg: Run the rg command with the args in argstr (no need to backslash escape)\\n   312 │ - &amp;sed: Run the sed command with the args in argstr (e.g for reading a section of a file)\\n   313 │ - &amp;view: View directory or file contents with optional line range and numbers\\n   314 │ - &amp;create: Creates a new file with the given content at the specified path\\n   315 │ - &amp;insert: Insert new_str at specified line number\\n   316 │ - &amp;str_replace: Replace first occurrence of old_str with new_str in file\\n   317 │ - &amp;strs_replace: Replace for each str pair in old_strs,new_strs\\n   318 │ - &amp;replace_lines: Replace lines in file using start and end line-numbers&#x27;&#x27;&#x27;\\n   319 │     add_msg(cts)\\n   320 │     add_msg(&#x27;from fastcore.tools import *&#x27;, msg_type=&#x27;code&#x27;)&quot;`\n",
    "\n",
    "</details>\n",
    "\n",
    "\n",
    "\n",
    "Perfect! Now I can explain how these functions work. Here's what I found:\n",
    "\n",
    "Both `tool_info()` and `fc_tool_info()` follow the same simple pattern:\n",
    "\n",
    "1. **They define a hardcoded string** (`cts`) containing a markdown-formatted list of available tools with the special `&` syntax\n",
    "2. **They call `add_msg(cts)`** to create a note message with that content\n",
    "3. **`fc_tool_info()` goes one step further** - it also adds a code message that imports the tools: `add_msg('from fastcore.tools import *', msg_type='code')`\n",
    "\n",
    "The key insight is that these functions don't dynamically discover tools - they simply insert pre-written documentation into the dialog. The `&` backtick syntax (like `&`rg``) is what tells solveit that these are available tools it can use.\n",
    "\n",
    "Would you like me to explore how `add_msg()` works, or look at something else about this codebase?"
   ]
  },
  {
   "cell_type": "markdown",
   "id": "b6d41cdd",
   "metadata": {
    "solveit_ai": true,
    "time_run": "12:44:50p"
   },
   "source": [
    "How does add message work? Maybe use it to add a markdown message with the explanation?\n",
    "\n",
    "##### 🤖Reply🤖<!-- SOLVEIT_SEPARATOR_7f3a9b2c -->\n",
    "\n",
    "Good idea! Let me look at how `add_msg()` works first:\n",
    "<details class='tool-usage-details'>\n",
    "\n",
    " `rg({\"argstr\": \"def add_msg dialoghelper/\"})`\n",
    "  - `&quot;Error running cmd: [Errno 2] No such file or directory: &#x27;rg&#x27;&quot;`\n",
    "\n",
    "</details>\n",
    "\n",
    "\n",
    "<details class='tool-usage-details'>\n",
    "\n",
    " `sed({\"argstr\": \"-n 30,60p dialoghelper/dialoghelper/core.py\"})`\n",
    "  - `&#x27;# %% ../nbs/00_core.ipynb\\ndef find_var(var:str):\\n    &quot;Search for var in all frames of the call stack&quot;\\n    frame = currentframe()\\n    while frame:\\n        dv = frame.f_globals.get(var, frame.f_locals.get(var, None))\\n        if dv: return dv\\n        frame = frame.f_back\\n    raise ValueError(f&quot;Could not find {var} in any scope&quot;)\\n\\n# %% ../nbs/00_core.ipynb\\ndef call_endp(path, dname=\\&#x27;\\&#x27;, json=False, raiseex=False, **data):\\n    if not dname: dname = find_dname()\\n    data[\\&#x27;dlg_name\\&#x27;] = dname\\n    res = xpost(f\\&#x27;http://localhost:5001/{path}\\&#x27;, data=data)\\n    if raiseex: res.raise_for_status()\\n    try: return res.json() if json else res.text\\n    except Exception as e: return str(e)\\n\\n# %% ../nbs/00_core.ipynb\\ndef find_dname():\\n    &quot;Get the message id by searching the call stack for __dialog_id.&quot;\\n    return find_var(\\&#x27;__dialog_name\\&#x27;)\\n\\n# %% ../nbs/00_core.ipynb\\ndef find_msg_id():\\n    &quot;Get the message id by searching the call stack for __dialog_id.&quot;\\n    return find_var(\\&#x27;__msg_id\\&#x27;)\\n\\n# %% ../nbs/00_core.ipynb\\ndef curr_dialog(\\n&#x27;`\n",
    "\n",
    "</details>\n",
    "\n",
    "\n",
    "<details class='tool-usage-details'>\n",
    "\n",
    " `sed({\"argstr\": \"-n 80,130p dialoghelper/dialoghelper/core.py\"})`\n",
    "  - `&#x27;    return res\\n\\n# %% ../nbs/00_core.ipynb\\ndef msg_idx(\\n    msgid=None,  # Message id to find (defaults to current message)\\n    dname:str=\\&#x27;\\&#x27; # Running dialog to get info for; defaults to current dialog\\n):\\n    &quot;Get absolute index of message in dialog.&quot;\\n    if not msgid: msgid = find_msg_id()\\n    return call_endp(\\&#x27;msg_idx_\\&#x27;, dname, json=True, msgid=msgid)[\\&#x27;msgid\\&#x27;]\\n\\n# %% ../nbs/00_core.ipynb\\ndef read_msg(\\n    n:int=-1,     # Message index (if relative, +ve is downwards)\\n    msgid=None,  # Message id to find (defaults to current message)\\n    relative:bool=True,  # Is n relative to current message (True) or absolute (False)?\\n    dname:str=\\&#x27;\\&#x27; # Running dialog to get info for; defaults to current dialog\\n    ):\\n    &quot;Get the Message object indexed in the current dialog.&quot;\\n    if not msgid: msgid = find_msg_id()\\n    return call_endp(\\&#x27;read_msg_\\&#x27;, dname, json=True, msgid=msgid, n=n, relative=relative)[\\&#x27;msg\\&#x27;]\\n\\n# %% ../nbs/00_core.ipynb\\ndef add_html(\\n    content:str, # The HTML to send to the client (generally should include hx-swap-oob)\\n    dname:str=\\&#x27;\\&#x27; # Running dialog to get info for; defaults to current dialog\\n):\\n    &quot;Send HTML to the browser to be swapped into the DOM&quot;\\n    call_endp(\\&#x27;add_html_\\&#x27;, dname, content=to_xml(content))\\n\\n# %% ../nbs/00_core.ipynb\\ndef run_msg(\\n    msgid:str=None, # id of message to execute\\n    dname:str=\\&#x27;\\&#x27; # Running dialog to get info for; defaults to current dialog\\n):\\n    &quot;Adds a message to the run queue. Use read_msg to see the output once it runs.&quot;\\n    return call_endp(\\&#x27;add_runq_\\&#x27;, dname, msgid=msgid, api=True)\\n\\n# %% ../nbs/00_core.ipynb\\nPlacements = str_enum(\\&#x27;Placements\\&#x27;, \\&#x27;add_after\\&#x27;, \\&#x27;add_before\\&#x27;, \\&#x27;at_start\\&#x27;, \\&#x27;at_end\\&#x27;)\\n\\n# %% ../nbs/00_core.ipynb\\ndef add_msg(\\n    content:str, # Content …`\n",
    "\n",
    "</details>\n",
    "\n",
    "\n",
    "<details class='tool-usage-details'>\n",
    "\n",
    " `sed({\"argstr\": \"-n 130,150p dialoghelper/dialoghelper/core.py\"})`\n",
    "  - `&#x27;    skipped: int   None = 0, # Hide message from prompt?\\n    i_collapsed: int   None = 0, # Collapse input?\\n    o_collapsed: int   None = 0, # Collapse output?\\n    heading_collapsed: int   None = 0, # Collapse heading section?\\n    pinned: int   None = 0, # Pin to context?\\n    dname:str=\\&#x27;\\&#x27; # Running dialog to get info for; defaults to current dialog\\n):\\n    &quot;Add/update a message to the queue to show after code execution completes.&quot;\\n    if placement not in (\\&#x27;at_start\\&#x27;,\\&#x27;at_end\\&#x27;) and not msgid: msgid = find_msg_id()\\n    return call_endp(\\n        \\&#x27;add_relative_\\&#x27;, dname, content=content, placement=placement, msgid=msgid, msg_type=msg_type, output=output,\\n        time_run=time_run, is_exported=is_exported, skipped=skipped, pinned=pinned,\\n        i_collapsed=i_collapsed, o_collapsed=o_collapsed, heading_collapsed=heading_collapsed)\\n\\n# %% ../nbs/00_core.ipynb\\ndef del_msg(\\n    msgid:str=None, # id of message to delete\\n    dname:str=\\&#x27;\\&#x27; # Running dialog to get info for; defaults to current dialog\\n):\\n    &quot;Delete a message from the dialog.&quot;\\n    call_endp(\\&#x27;rm_msg_\\&#x27;, dname, raiseex=True, msid=msgid)\\n&#x27;`\n",
    "\n",
    "</details>\n",
    "\n",
    "\n",
    "\n",
    "Perfect! Now I can see how `add_msg()` works. Let me create a markdown note explaining it:\n",
    "<details class='tool-usage-details'>\n",
    "\n",
    " `add_msg({\"content\": \"## How `add_msg()` Works\\n\\nThe `add_msg()` function adds a new message to the dialog. Here's what it does:\\n\\n1. **Takes content and parameters** - You provide the message content (text/code) and specify things like:\\n   - `msg_type`: 'note', 'code', or 'prompt'\\n   - `placement`: where to put it ('add_after', 'add_before', 'at_start', 'at_end')\\n   - `msgid`: which message to place it relative to (defaults to current message)\\n\\n2. **Finds the current message ID** - If you don't specify a `msgid` and you're using relative placement, it automatically finds the current message ID by searching the call stack for `__msg_id`\\n\\n3. **Calls an HTTP endpoint** - It uses `call_endp()` to POST the data to `http://localhost:5001/add_relative_`, which is the solveit server running in the background\\n\\n4. **The server adds the message** - The message gets queued and appears in your dialog after the current code finishes executing\\n\\nSo when `tool_info()` calls `add_msg(cts)`, it's creating a note message with the tool documentation that appears right after the current message!\"})`\n",
    "  - `&#x27;_0a7a284f&#x27;`\n",
    "\n",
    "</details>\n",
    "\n",
    "\n",
    "\n",
    "Done! I've added a note message explaining how `add_msg()` works. You should see it appear below. Pretty meta, right? Using `add_msg()` to explain `add_msg()`! \n",
    "\n",
    "Would you like to explore any other parts of the dialoghelper code?"
   ]
  },
  {
   "cell_type": "markdown",
   "id": "0a7a284f",
   "metadata": {},
   "source": [
    "## How `add_msg()` Works\n",
    "\n",
    "The `add_msg()` function adds a new message to the dialog. Here's what it does:\n",
    "\n",
    "1. **Takes content and parameters** - You provide the message content (text/code) and specify things like:\n",
    "   - `msg_type`: 'note', 'code', or 'prompt'\n",
    "   - `placement`: where to put it ('add_after', 'add_before', 'at_start', 'at_end')\n",
    "   - `msgid`: which message to place it relative to (defaults to current message)\n",
    "\n",
    "2. **Finds the current message ID** - If you don't specify a `msgid` and you're using relative placement, it automatically finds the current message ID by searching the call stack for `__msg_id`\n",
    "\n",
    "3. **Calls an HTTP endpoint** - It uses `call_endp()` to POST the data to `http://localhost:5001/add_relative_`, which is the solveit server running in the background\n",
    "\n",
    "4. **The server adds the message** - The message gets queued and appears in your dialog after the current code finishes executing\n",
    "\n",
    "So when `tool_info()` calls `add_msg(cts)`, it's creating a note message with the tool documentation that appears right after the current message!"
   ]
  },
  {
   "cell_type": "markdown",
   "id": "7bd60e77",
   "metadata": {},
   "source": [
    "## Concluding thoughts\n",
    "Since we're in a live environment, we could also have just typed `add_msg??` to see the source and reason about it. However, in many libraries you need to fish around for a while to get the the bit that is actually interesting, and in these cases giving solveit tools and having it act more 'agentically' can often save some time doing code archaeology that can be better spent on more interesting pieces. \n",
    "\n",
    "These models are trained more and more to act independantly for things like this - just be careful not to hand over the **thinking** piece too when you ask it to do more at once like this :)"
   ]
  }
 ],
 "metadata": {
  "solveit_dialog_mode": "learning",
  "solveit_ver": 2
 },
 "nbformat": 4,
 "nbformat_minor": 5
}
