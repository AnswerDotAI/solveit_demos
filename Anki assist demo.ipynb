{
 "cells": [
  {
   "cell_type": "markdown",
   "id": "60f9c7b5",
   "metadata": {},
   "source": [
    "# Anki assist demo\n",
    "\n",
    "Author: Jay Suh\n",
    "\n",
    "Purpose: Use solveit to create anki cards from pdf, web page, or any text. \n",
    "\n",
    "Summary: \n",
    "\n",
    "- Install Anki and addon, connect to anki from solveit instance. \n",
    "- Show examples of creating cards from pdf using solveit.\n",
    "- Adding, editing, deleting cards.\n",
    "- Create cards from a web page url.\n",
    "- Use function call to find and count cards in a deck."
   ]
  },
  {
   "cell_type": "markdown",
   "id": "4b87ea02",
   "metadata": {},
   "source": [
    "## Setup"
   ]
  },
  {
   "cell_type": "markdown",
   "id": "1020146a",
   "metadata": {},
   "source": [
    "To get started, we need to install Anki from [anki web](https://apps.ankiweb.net/). Then, install [`Anki-Connect` addon](https://git.sr.ht/~foosoft/anki-connect) with these steps:\n",
    "Anki must be running in the background.\n",
    "\n",
    "- Open the Install Add-on dialog by selecting Tools | Add-ons | Get Add-ons... in Anki.\n",
    "- Input 2055492159 into the text box labeled Code and press the OK button to proceed.\n",
    "- Restart Anki when prompted to do so in order to complete the installation of Anki-Connect.\n",
    "\n",
    "To connect anki app running on my computer to solveit, I used my router as `HOME_URL` and `PORT` as `8765`, then I used port forwarding from the router. I saved the `HOME_URL` and `ANKI_API_KEY` in solveit secrets. To get the `ANKI_API_KEY`, click on `Config` in the `Add-ons` page in the Anki app.\n",
    "\n",
    "**Make sure Anki is running in the background on your computer.**"
   ]
  },
  {
   "cell_type": "markdown",
   "id": "837aa4bc",
   "metadata": {},
   "source": [
    "Here is [anki_assist.py](https://gist.github.com/galopyz/e74683c8ce0a3366cdcda1838bbfd0ed). This script is written with in solveit. Here is a [dialogue](https://gist.github.com/galopyz/df0db60563f1df6e7fec56cf7510ff33) of creating it. The script is exported from the dialogue."
   ]
  },
  {
   "cell_type": "markdown",
   "id": "c8823475",
   "metadata": {},
   "source": [
    "If anki is successfully connected, you can see your list of decks."
   ]
  },
  {
   "cell_type": "code",
   "execution_count": null,
   "id": "f68dc1ce",
   "metadata": {
    "time_run": "11:16:11p"
   },
   "outputs": [
    {
     "name": "stdout",
     "output_type": "stream",
     "text": [
      "got list of decks: ['book 2', 'books', 'books::book review', 'Default', 'Genetics', 'Genetics0', 'Genetics2', 'Genomics', 'microbio2', 'molecular cell biology', 'test1', 'Word Dumb']\n"
     ]
    }
   ],
   "source": [
    "from anki_assist import *\n",
    "print('got list of decks: {}'.format(invoke('deckNames')))"
   ]
  },
  {
   "cell_type": "markdown",
   "id": "2a5f7ea1",
   "metadata": {},
   "source": [
    "By default, `anki_assist` uses `test1` as a deck to add, update, or delete cards. But you can choose any deck.\r\n",
    "\r\n",
    "Calling `anki_assist_info` adds a new note message with information about tool and creating cards. It is mainly for solveit. Solveit has no idea how to use `anki_assist` to create cards. Therefore we provide some examples of how to create them. You may change the format of cards here, and solveit will follow the pattern with its autoregressive nature."
   ]
  },
  {
   "cell_type": "code",
   "execution_count": null,
   "id": "0c893a54",
   "metadata": {
    "time_run": "11:14:06p"
   },
   "outputs": [],
   "source": [
    "anki_assist_info()"
   ]
  },
  {
   "cell_type": "markdown",
   "id": "76392993",
   "metadata": {},
   "source": [
    "### anki_assist\n",
    "> Anki flashcard creation and management toolkit using AnkiConnect API\n",
    "    \n",
    "#### Tools available from `anki_assist`:\n",
    "- &`invoke` - Full AnkiConnect API access (add/update/delete notes, search, stats)\n",
    "\n",
    "#### Creating cards\n",
    "\n",
    "This is the format for creating anki cards for the user:\n",
    "```\n",
    "curie_cards = [\n",
    "    AnkiCard(\n",
    "        front=\"What were Marie Curie's Nobel Prize achievements?\",\n",
    "        back=\"• First woman to win a Nobel Prize (Physics, 1903)\n",
    "• Only person to win Nobel Prizes in two different sciences (Physics 1903, Chemistry 1911)\",\n",
    "        deck=\"test1\",\n",
    "        tags=[\"marie-curie\", \"nobel-prize\", \"history-of-science\"]\n",
    "    ),\n",
    "    AnkiCard(\n",
    "        front=\"What elements did Marie Curie discover?\",\n",
    "        back=\"Polonium and radium\",\n",
    "        deck=\"test1\",\n",
    "        tags=[\"marie-curie\", \"chemistry\", \"radioactivity\"]\n",
    "    ),\n",
    "display(*curie_cards)\n",
    "```\n"
   ]
  },
  {
   "cell_type": "markdown",
   "id": "6f43f560",
   "metadata": {},
   "source": [
    "## Making cards from pdf"
   ]
  },
  {
   "cell_type": "markdown",
   "id": "90ec464b",
   "metadata": {},
   "source": [
    "Let's say we have a lecture note in a pdf form. This is how we get the pages."
   ]
  },
  {
   "cell_type": "code",
   "execution_count": null,
   "id": "02030fe8",
   "metadata": {
    "time_run": "11:16:22p"
   },
   "outputs": [
    {
     "name": "stdout",
     "output_type": "stream",
     "text": [
      "Antigens & Epitopes\n",
      "• Antigen\n",
      "– Self & Nonself substances that elicit an immune \n",
      "response and react with the products of that \n",
      "response\n",
      "• Epitope\n",
      "– Regions / sites of the antigen that bind to a \n",
      "specific antibody or T-cell receptor\n",
      "\n"
     ]
    }
   ],
   "source": [
    "pages = extract_text_by_pages('static/Lecture_22_Adaptive Immunity_SlideView.pdf')\n",
    "print(view_page(pages, 4))"
   ]
  },
  {
   "cell_type": "markdown",
   "id": "88c6455e",
   "metadata": {},
   "source": [
    "Then we ask solveit to create cards."
   ]
  },
  {
   "cell_type": "markdown",
   "id": "8f05be08",
   "metadata": {
    "solveit_ai": true
   },
   "source": [
    "make cards with emojis for fun.\n",
    "\n",
    "##### 🤖Reply🤖<!-- SOLVEIT_SEPARATOR_7f3a9b2c -->\n",
    "\n",
    "```python\n",
    "immunity_cards = [\n",
    "    AnkiCard(\n",
    "        front=\"What is an antigen? 🧬\",\n",
    "        back=\"Self & nonself substances that elicit an immune response and react with the products of that response 🛡️\",\n",
    "        deck=\"test1\",\n",
    "        tags=[\"immunology\", \"antigens\", \"adaptive-immunity\"]\n",
    "    ),\n",
    "    AnkiCard(\n",
    "        front=\"What is an epitope? 🎯\",\n",
    "        back=\"Regions/sites of the antigen that bind to a specific antibody or T-cell receptor 🔗\",\n",
    "        deck=\"test1\",\n",
    "        tags=[\"immunology\", \"epitopes\", \"adaptive-immunity\"]\n",
    "    )\n",
    "]\n",
    "display(*immunity_cards)\n",
    "```"
   ]
  },
  {
   "cell_type": "markdown",
   "id": "f6e2a81e",
   "metadata": {},
   "source": [
    "Before we add them directly into the deck, let's take a look at them. Those cards look nice with FastHTML and MonsterUI. So it is very easy to read. \r\n",
    "\r\n",
    "I recommend reading through cards before adding them to the deck. Solveit can make mistakes, create cards that exist already in the deck, or formatting is bad. "
   ]
  },
  {
   "cell_type": "code",
   "execution_count": null,
   "id": "7639f06b",
   "metadata": {
    "time_run": "11:16:48p"
   },
   "outputs": [
    {
     "data": {
      "text/html": [
       "<div class=\"uk-card hover:shadow-lg transition-shadow\">\n",
       "  <div class=\"uk-card-header \">\n",
       "    <h4 class=\"uk-h4 \">Anki Card</h4>\n",
       "    <div class=\"space-x-2\">\n",
       "<label class=\"uk-label uk-label-secondary\">Unsaved</label><label class=\"uk-label \">test1</label><label class=\"uk-label \">immunology</label><label class=\"uk-label \">antigens</label><label class=\"uk-label \">adaptive-immunity</label>    </div>\n",
       "  </div>\n",
       "  <div class=\"uk-card-body space-y-6\">\n",
       "    <div class=\"mb-3\">\n",
       "      <p class=\"font-medium\">What is an antigen? 🧬</p>\n",
       "    </div>\n",
       "<hr class=\"my-4 uk-divider-icon\">    <div class=\"mt-3\">\n",
       "<pre class=\"text-gray-500 dark:text-gray-200 text-sm\">Self &amp; nonself substances that elicit an immune response and react with the products of that response 🛡️</pre>    </div>\n",
       "  </div>\n",
       "</div>\n"
      ],
      "text/plain": [
       "AnkiCard(front='What is an antigen? 🧬...',\n",
       " back='Self & nonself substances that elicit an immune response and react with the products of that response 🛡️...',\n",
       " deck='test1,\n",
       " status=unsaved')"
      ]
     },
     "metadata": {},
     "output_type": "display_data"
    },
    {
     "data": {
      "text/html": [
       "<div class=\"uk-card hover:shadow-lg transition-shadow\">\n",
       "  <div class=\"uk-card-header \">\n",
       "    <h4 class=\"uk-h4 \">Anki Card</h4>\n",
       "    <div class=\"space-x-2\">\n",
       "<label class=\"uk-label uk-label-secondary\">Unsaved</label><label class=\"uk-label \">test1</label><label class=\"uk-label \">immunology</label><label class=\"uk-label \">epitopes</label><label class=\"uk-label \">adaptive-immunity</label>    </div>\n",
       "  </div>\n",
       "  <div class=\"uk-card-body space-y-6\">\n",
       "    <div class=\"mb-3\">\n",
       "      <p class=\"font-medium\">What is an epitope? 🎯</p>\n",
       "    </div>\n",
       "<hr class=\"my-4 uk-divider-icon\">    <div class=\"mt-3\">\n",
       "<pre class=\"text-gray-500 dark:text-gray-200 text-sm\">Regions/sites of the antigen that bind to a specific antibody or T-cell receptor 🔗</pre>    </div>\n",
       "  </div>\n",
       "</div>\n"
      ],
      "text/plain": [
       "AnkiCard(front='What is an epitope? 🎯...',\n",
       " back='Regions/sites of the antigen that bind to a specific antibody or T-cell receptor 🔗...',\n",
       " deck='test1,\n",
       " status=unsaved')"
      ]
     },
     "metadata": {},
     "output_type": "display_data"
    }
   ],
   "source": [
    "immunity_cards = [\n",
    "    AnkiCard(\n",
    "        front=\"What is an antigen? 🧬\",\n",
    "        back=\"Self & nonself substances that elicit an immune response and react with the products of that response 🛡️\",\n",
    "        deck=\"test1\",\n",
    "        tags=[\"immunology\", \"antigens\", \"adaptive-immunity\"]\n",
    "    ),\n",
    "    AnkiCard(\n",
    "        front=\"What is an epitope? 🎯\",\n",
    "        back=\"Regions/sites of the antigen that bind to a specific antibody or T-cell receptor 🔗\",\n",
    "        deck=\"test1\",\n",
    "        tags=[\"immunology\", \"epitopes\", \"adaptive-immunity\"]\n",
    "    )\n",
    "]\n",
    "display(*immunity_cards)"
   ]
  },
  {
   "cell_type": "markdown",
   "id": "87957c1c",
   "metadata": {},
   "source": [
    "They look good! Let's add them to our deck."
   ]
  },
  {
   "cell_type": "code",
   "execution_count": null,
   "id": "beed3407",
   "metadata": {
    "time_run": "11:17:06p"
   },
   "outputs": [
    {
     "name": "stdout",
     "output_type": "stream",
     "text": [
      "Added: AnkiCard(front='What is an antigen? 🧬...',\n",
      " back='Self & nonself substances that elicit an immune response and react with the products of that response 🛡️...',\n",
      " deck='test1,\n",
      " status=saved')\n",
      "Added: AnkiCard(front='What is an epitope? 🎯...',\n",
      " back='Regions/sites of the antigen that bind to a specific antibody or T-cell receptor 🔗...',\n",
      " deck='test1,\n",
      " status=saved')\n"
     ]
    }
   ],
   "source": [
    "for card in immunity_cards:\n",
    "    card.add_to_anki()\n",
    "    print(f\"Added: {card}\")"
   ]
  },
  {
   "cell_type": "markdown",
   "id": "427fb599",
   "metadata": {},
   "source": [
    "How do we know they are added? We can display them again! The `Unsaved` tag is gone, and each card has its ID."
   ]
  },
  {
   "cell_type": "code",
   "execution_count": null,
   "id": "eb888b58",
   "metadata": {
    "time_run": "11:41:59p"
   },
   "outputs": [
    {
     "data": {
      "text/html": [
       "<div class=\"uk-card hover:shadow-lg transition-shadow\">\n",
       "  <div class=\"uk-card-header \">\n",
       "    <h4 class=\"uk-h4 \">Anki Card</h4>\n",
       "    <div class=\"space-x-2\">\n",
       "<label class=\"uk-label uk-label-primary\">ID: 1759360626430</label><label class=\"uk-label \">test1</label><label class=\"uk-label \">immunology</label><label class=\"uk-label \">antigens</label><label class=\"uk-label \">adaptive-immunity</label>    </div>\n",
       "  </div>\n",
       "  <div class=\"uk-card-body space-y-6\">\n",
       "    <div class=\"mb-3\">\n",
       "      <p class=\"font-medium\">What is an antigen? 🧬</p>\n",
       "    </div>\n",
       "<hr class=\"my-4 uk-divider-icon\">    <div class=\"mt-3\">\n",
       "<pre class=\"text-gray-500 dark:text-gray-200 text-sm\">Self &amp; nonself substances that elicit an immune response and react with the products of that response 🛡️</pre>    </div>\n",
       "  </div>\n",
       "</div>\n"
      ],
      "text/plain": [
       "AnkiCard(front='What is an antigen? 🧬...',\n",
       " back='Self & nonself substances that elicit an immune response and react with the products of that response 🛡️...',\n",
       " deck='test1,\n",
       " status=saved')"
      ]
     },
     "metadata": {},
     "output_type": "display_data"
    },
    {
     "data": {
      "text/html": [
       "<div class=\"uk-card hover:shadow-lg transition-shadow\">\n",
       "  <div class=\"uk-card-header \">\n",
       "    <h4 class=\"uk-h4 \">Anki Card</h4>\n",
       "    <div class=\"space-x-2\">\n",
       "<label class=\"uk-label uk-label-primary\">ID: 1759360626558</label><label class=\"uk-label \">test1</label><label class=\"uk-label \">immunology</label><label class=\"uk-label \">epitopes</label><label class=\"uk-label \">adaptive-immunity</label>    </div>\n",
       "  </div>\n",
       "  <div class=\"uk-card-body space-y-6\">\n",
       "    <div class=\"mb-3\">\n",
       "      <p class=\"font-medium\">What is an epitope? 🎯</p>\n",
       "    </div>\n",
       "<hr class=\"my-4 uk-divider-icon\">    <div class=\"mt-3\">\n",
       "<pre class=\"text-gray-500 dark:text-gray-200 text-sm\">Regions/sites of the antigen that bind to a specific antibody or T-cell receptor 🔗</pre>    </div>\n",
       "  </div>\n",
       "</div>\n"
      ],
      "text/plain": [
       "AnkiCard(front='What is an epitope? 🎯...',\n",
       " back='Regions/sites of the antigen that bind to a specific antibody or T-cell receptor 🔗...',\n",
       " deck='test1,\n",
       " status=saved')"
      ]
     },
     "metadata": {},
     "output_type": "display_data"
    }
   ],
   "source": [
    "display(*immunity_cards)"
   ]
  },
  {
   "cell_type": "markdown",
   "id": "8df0556d",
   "metadata": {},
   "source": [
    "Oops, we forgot to put meow meow at the end of the definitions! No problem. We can update cards with new definitions."
   ]
  },
  {
   "cell_type": "code",
   "execution_count": null,
   "id": "54cb8355",
   "metadata": {
    "time_run": "11:43:31p"
   },
   "outputs": [
    {
     "data": {
      "text/html": [
       "<div class=\"uk-card hover:shadow-lg transition-shadow\">\n",
       "  <div class=\"uk-card-header \">\n",
       "    <h4 class=\"uk-h4 \">Anki Card</h4>\n",
       "    <div class=\"space-x-2\">\n",
       "<label class=\"uk-label uk-label-primary\">ID: 1759360626430</label><label class=\"uk-label \">test1</label><label class=\"uk-label \">immunology</label><label class=\"uk-label \">antigens</label><label class=\"uk-label \">adaptive-immunity</label>    </div>\n",
       "  </div>\n",
       "  <div class=\"uk-card-body space-y-6\">\n",
       "    <div class=\"mb-3\">\n",
       "      <p class=\"font-medium\">What is an antigen? 🧬</p>\n",
       "    </div>\n",
       "<hr class=\"my-4 uk-divider-icon\">    <div class=\"mt-3\">\n",
       "<pre class=\"text-gray-500 dark:text-gray-200 text-sm\">Self &amp; nonself substances that elicit an immune response and react with the products of that response 🛡️ meow meow</pre>    </div>\n",
       "  </div>\n",
       "</div>\n"
      ],
      "text/plain": [
       "AnkiCard(front='What is an antigen? 🧬...',\n",
       " back='Self & nonself substances that elicit an immune response and react with the products of that response 🛡️ meow meow...',\n",
       " deck='test1,\n",
       " status=saved')"
      ]
     },
     "metadata": {},
     "output_type": "display_data"
    },
    {
     "data": {
      "text/html": [
       "<div class=\"uk-card hover:shadow-lg transition-shadow\">\n",
       "  <div class=\"uk-card-header \">\n",
       "    <h4 class=\"uk-h4 \">Anki Card</h4>\n",
       "    <div class=\"space-x-2\">\n",
       "<label class=\"uk-label uk-label-primary\">ID: 1759360626558</label><label class=\"uk-label \">test1</label><label class=\"uk-label \">immunology</label><label class=\"uk-label \">epitopes</label><label class=\"uk-label \">adaptive-immunity</label>    </div>\n",
       "  </div>\n",
       "  <div class=\"uk-card-body space-y-6\">\n",
       "    <div class=\"mb-3\">\n",
       "      <p class=\"font-medium\">What is an epitope? 🎯</p>\n",
       "    </div>\n",
       "<hr class=\"my-4 uk-divider-icon\">    <div class=\"mt-3\">\n",
       "<pre class=\"text-gray-500 dark:text-gray-200 text-sm\">Regions/sites of the antigen that bind to a specific antibody or T-cell receptor 🔗 meow meow</pre>    </div>\n",
       "  </div>\n",
       "</div>\n"
      ],
      "text/plain": [
       "AnkiCard(front='What is an epitope? 🎯...',\n",
       " back='Regions/sites of the antigen that bind to a specific antibody or T-cell receptor 🔗 meow meow...',\n",
       " deck='test1,\n",
       " status=saved')"
      ]
     },
     "metadata": {},
     "output_type": "display_data"
    }
   ],
   "source": [
    "for card in immunity_cards:\r\n",
    "    card.back += \" meow meow\"\r\n",
    "    card.update()\r\n",
    "display(*immunity_cards)"
   ]
  },
  {
   "cell_type": "markdown",
   "id": "b81522b8",
   "metadata": {},
   "source": [
    "Oh we just want to get rid of those cards because we already memorized them. We can delete them. Now the card IDs are gone and `Unsaved` tag appears again."
   ]
  },
  {
   "cell_type": "code",
   "execution_count": null,
   "id": "7a7bcfef",
   "metadata": {
    "time_run": "11:43:52p"
   },
   "outputs": [
    {
     "data": {
      "text/html": [
       "<div class=\"uk-card hover:shadow-lg transition-shadow\">\n",
       "  <div class=\"uk-card-header \">\n",
       "    <h4 class=\"uk-h4 \">Anki Card</h4>\n",
       "    <div class=\"space-x-2\">\n",
       "<label class=\"uk-label uk-label-secondary\">Unsaved</label><label class=\"uk-label \">test1</label><label class=\"uk-label \">immunology</label><label class=\"uk-label \">antigens</label><label class=\"uk-label \">adaptive-immunity</label>    </div>\n",
       "  </div>\n",
       "  <div class=\"uk-card-body space-y-6\">\n",
       "    <div class=\"mb-3\">\n",
       "      <p class=\"font-medium\">What is an antigen? 🧬</p>\n",
       "    </div>\n",
       "<hr class=\"my-4 uk-divider-icon\">    <div class=\"mt-3\">\n",
       "<pre class=\"text-gray-500 dark:text-gray-200 text-sm\">Self &amp; nonself substances that elicit an immune response and react with the products of that response 🛡️ meow meow</pre>    </div>\n",
       "  </div>\n",
       "</div>\n"
      ],
      "text/plain": [
       "AnkiCard(front='What is an antigen? 🧬...',\n",
       " back='Self & nonself substances that elicit an immune response and react with the products of that response 🛡️ meow meow...',\n",
       " deck='test1,\n",
       " status=unsaved')"
      ]
     },
     "metadata": {},
     "output_type": "display_data"
    },
    {
     "data": {
      "text/html": [
       "<div class=\"uk-card hover:shadow-lg transition-shadow\">\n",
       "  <div class=\"uk-card-header \">\n",
       "    <h4 class=\"uk-h4 \">Anki Card</h4>\n",
       "    <div class=\"space-x-2\">\n",
       "<label class=\"uk-label uk-label-secondary\">Unsaved</label><label class=\"uk-label \">test1</label><label class=\"uk-label \">immunology</label><label class=\"uk-label \">epitopes</label><label class=\"uk-label \">adaptive-immunity</label>    </div>\n",
       "  </div>\n",
       "  <div class=\"uk-card-body space-y-6\">\n",
       "    <div class=\"mb-3\">\n",
       "      <p class=\"font-medium\">What is an epitope? 🎯</p>\n",
       "    </div>\n",
       "<hr class=\"my-4 uk-divider-icon\">    <div class=\"mt-3\">\n",
       "<pre class=\"text-gray-500 dark:text-gray-200 text-sm\">Regions/sites of the antigen that bind to a specific antibody or T-cell receptor 🔗 meow meow</pre>    </div>\n",
       "  </div>\n",
       "</div>\n"
      ],
      "text/plain": [
       "AnkiCard(front='What is an epitope? 🎯...',\n",
       " back='Regions/sites of the antigen that bind to a specific antibody or T-cell receptor 🔗 meow meow...',\n",
       " deck='test1,\n",
       " status=unsaved')"
      ]
     },
     "metadata": {},
     "output_type": "display_data"
    }
   ],
   "source": [
    "for card in immunity_cards: card.delete()\r\n",
    "display(*immunity_cards)"
   ]
  },
  {
   "cell_type": "markdown",
   "id": "d90ea289",
   "metadata": {},
   "source": [
    "We can look at different pages for more cards."
   ]
  },
  {
   "cell_type": "code",
   "execution_count": null,
   "id": "ed51b5a1",
   "metadata": {
    "time_run": "11:46:11p"
   },
   "outputs": [
    {
     "name": "stdout",
     "output_type": "stream",
     "text": [
      "Major Histocompatibility Complex\n",
      "(MHC)\n",
      "• Class I\n",
      "– Found on all nucleated cells\n",
      "• Class II\n",
      "– Found on cells that process nonself materials\n",
      "• Macrophages, dendritic cells etc\n",
      "• Class III\n",
      "– Secreted products that have immune functions\n",
      "\n"
     ]
    }
   ],
   "source": [
    "print(view_page(pages, 11))"
   ]
  },
  {
   "cell_type": "markdown",
   "id": "4780cc27",
   "metadata": {},
   "source": [
    "When I type m, make cards with emojis for fun."
   ]
  },
  {
   "cell_type": "markdown",
   "id": "09376f12",
   "metadata": {
    "solveit_ai": true
   },
   "source": [
    "m\n",
    "\n",
    "##### 🤖Reply🤖<!-- SOLVEIT_SEPARATOR_7f3a9b2c -->\n",
    "\n",
    "```python\n",
    "mhc_cards = [\n",
    "    AnkiCard(\n",
    "        front=\"What cells have MHC Class I? 🧬\",\n",
    "        back=\"Found on all nucleated cells 🔬\",\n",
    "        deck=\"test1\",\n",
    "        tags=[\"immunology\", \"mhc\", \"adaptive-immunity\"]\n",
    "    ),\n",
    "    AnkiCard(\n",
    "        front=\"What cells have MHC Class II? 🎯\",\n",
    "        back=\"Found on cells that process nonself materials (macrophages, dendritic cells, etc.) 🦠\",\n",
    "        deck=\"test1\",\n",
    "        tags=[\"immunology\", \"mhc\", \"adaptive-immunity\"]\n",
    "    ),\n",
    "    AnkiCard(\n",
    "        front=\"What are MHC Class III molecules? 💉\",\n",
    "        back=\"Secreted products that have immune functions 🛡️\",\n",
    "        deck=\"test1\",\n",
    "        tags=[\"immunology\", \"mhc\", \"adaptive-immunity\"]\n",
    "    )\n",
    "]\n",
    "display(*mhc_cards)\n",
    "```"
   ]
  },
  {
   "cell_type": "code",
   "execution_count": null,
   "id": "750bb405",
   "metadata": {
    "time_run": "11:41:30p"
   },
   "outputs": [
    {
     "data": {
      "text/html": [
       "<div class=\"uk-card hover:shadow-lg transition-shadow\">\n",
       "  <div class=\"uk-card-header \">\n",
       "    <h4 class=\"uk-h4 \">Anki Card</h4>\n",
       "    <div class=\"space-x-2\">\n",
       "<label class=\"uk-label uk-label-secondary\">Unsaved</label><label class=\"uk-label \">test1</label><label class=\"uk-label \">immunology</label><label class=\"uk-label \">mhc</label><label class=\"uk-label \">adaptive-immunity</label>    </div>\n",
       "  </div>\n",
       "  <div class=\"uk-card-body space-y-6\">\n",
       "    <div class=\"mb-3\">\n",
       "      <p class=\"font-medium\">What cells have MHC Class I? 🧬</p>\n",
       "    </div>\n",
       "<hr class=\"my-4 uk-divider-icon\">    <div class=\"mt-3\">\n",
       "<pre class=\"text-gray-500 dark:text-gray-200 text-sm\">Found on all nucleated cells 🔬</pre>    </div>\n",
       "  </div>\n",
       "</div>\n"
      ],
      "text/plain": [
       "AnkiCard(front='What cells have MHC Class I? 🧬...',\n",
       " back='Found on all nucleated cells 🔬...',\n",
       " deck='test1,\n",
       " status=unsaved')"
      ]
     },
     "metadata": {},
     "output_type": "display_data"
    },
    {
     "data": {
      "text/html": [
       "<div class=\"uk-card hover:shadow-lg transition-shadow\">\n",
       "  <div class=\"uk-card-header \">\n",
       "    <h4 class=\"uk-h4 \">Anki Card</h4>\n",
       "    <div class=\"space-x-2\">\n",
       "<label class=\"uk-label uk-label-secondary\">Unsaved</label><label class=\"uk-label \">test1</label><label class=\"uk-label \">immunology</label><label class=\"uk-label \">mhc</label><label class=\"uk-label \">adaptive-immunity</label>    </div>\n",
       "  </div>\n",
       "  <div class=\"uk-card-body space-y-6\">\n",
       "    <div class=\"mb-3\">\n",
       "      <p class=\"font-medium\">What cells have MHC Class II? 🎯</p>\n",
       "    </div>\n",
       "<hr class=\"my-4 uk-divider-icon\">    <div class=\"mt-3\">\n",
       "<pre class=\"text-gray-500 dark:text-gray-200 text-sm\">Found on cells that process nonself materials (macrophages, dendritic cells, etc.) 🦠</pre>    </div>\n",
       "  </div>\n",
       "</div>\n"
      ],
      "text/plain": [
       "AnkiCard(front='What cells have MHC Class II? 🎯...',\n",
       " back='Found on cells that process nonself materials (macrophages, dendritic cells, etc.) 🦠...',\n",
       " deck='test1,\n",
       " status=unsaved')"
      ]
     },
     "metadata": {},
     "output_type": "display_data"
    },
    {
     "data": {
      "text/html": [
       "<div class=\"uk-card hover:shadow-lg transition-shadow\">\n",
       "  <div class=\"uk-card-header \">\n",
       "    <h4 class=\"uk-h4 \">Anki Card</h4>\n",
       "    <div class=\"space-x-2\">\n",
       "<label class=\"uk-label uk-label-secondary\">Unsaved</label><label class=\"uk-label \">test1</label><label class=\"uk-label \">immunology</label><label class=\"uk-label \">mhc</label><label class=\"uk-label \">adaptive-immunity</label>    </div>\n",
       "  </div>\n",
       "  <div class=\"uk-card-body space-y-6\">\n",
       "    <div class=\"mb-3\">\n",
       "      <p class=\"font-medium\">What are MHC Class III molecules? 💉</p>\n",
       "    </div>\n",
       "<hr class=\"my-4 uk-divider-icon\">    <div class=\"mt-3\">\n",
       "<pre class=\"text-gray-500 dark:text-gray-200 text-sm\">Secreted products that have immune functions 🛡️</pre>    </div>\n",
       "  </div>\n",
       "</div>\n"
      ],
      "text/plain": [
       "AnkiCard(front='What are MHC Class III molecules? 💉...',\n",
       " back='Secreted products that have immune functions 🛡️...',\n",
       " deck='test1,\n",
       " status=unsaved')"
      ]
     },
     "metadata": {},
     "output_type": "display_data"
    }
   ],
   "source": [
    "mhc_cards = [\n",
    "    AnkiCard(\n",
    "        front=\"What cells have MHC Class I? 🧬\",\n",
    "        back=\"Found on all nucleated cells 🔬\",\n",
    "        deck=\"test1\",\n",
    "        tags=[\"immunology\", \"mhc\", \"adaptive-immunity\"]\n",
    "    ),\n",
    "    AnkiCard(\n",
    "        front=\"What cells have MHC Class II? 🎯\",\n",
    "        back=\"Found on cells that process nonself materials (macrophages, dendritic cells, etc.) 🦠\",\n",
    "        deck=\"test1\",\n",
    "        tags=[\"immunology\", \"mhc\", \"adaptive-immunity\"]\n",
    "    ),\n",
    "    AnkiCard(\n",
    "        front=\"What are MHC Class III molecules? 💉\",\n",
    "        back=\"Secreted products that have immune functions 🛡️\",\n",
    "        deck=\"test1\",\n",
    "        tags=[\"immunology\", \"mhc\", \"adaptive-immunity\"]\n",
    "    )\n",
    "]\n",
    "display(*mhc_cards)"
   ]
  },
  {
   "cell_type": "markdown",
   "id": "4e760587",
   "metadata": {},
   "source": [
    "I was reviewing the notes, and I just really wanted to learn more about those. I can just ask solveit!"
   ]
  },
  {
   "cell_type": "markdown",
   "id": "76566658",
   "metadata": {
    "solveit_ai": true
   },
   "source": [
    "Can you explain more about those three classes?\n",
    "\n",
    "##### 🤖Reply🤖<!-- SOLVEIT_SEPARATOR_7f3a9b2c -->\n",
    "\n",
    "I'd be happy to explain more about the three MHC classes!\n",
    "\n",
    "**MHC Class I:**\n",
    "- Found on virtually all nucleated cells in the body (cells with a nucleus)\n",
    "- Presents peptides from inside the cell (like viral proteins if the cell is infected)\n",
    "- Interacts primarily with CD8+ T cells (cytotoxic T cells)\n",
    "- Helps the immune system identify and eliminate cells that have been infected or have become cancerous\n",
    "- Structure: consists of one MHC-encoded α chain paired with β2-microglobulin\n",
    "\n",
    "**MHC Class II:**\n",
    "- Found specifically on antigen-presenting cells (APCs) like macrophages, dendritic cells, and B cells\n",
    "- Presents peptides derived from extracellular proteins (like bacterial proteins that have been engulfed)\n",
    "- Interacts primarily with CD4+ T cells (helper T cells)\n",
    "- Critical for initiating immune responses against extracellular pathogens\n",
    "- Structure: consists of two MHC-encoded chains (α and β)\n",
    "\n",
    "**MHC Class III:**\n",
    "- Unlike Classes I and II, these aren't peptide-presenting molecules\n",
    "- Consists of secreted proteins involved in immune functions\n",
    "- Includes components of the complement system (helps clear pathogens)\n",
    "- Contains cytokines like TNF (tumor necrosis factor)\n",
    "- Also includes heat shock proteins and some enzymes with immune functions\n",
    "\n",
    "Would you like me to elaborate on any specific aspect of these MHC classes?"
   ]
  },
  {
   "cell_type": "markdown",
   "id": "20aee9b8",
   "metadata": {},
   "source": [
    "Of course we can make cards with them. We can also keep asking questions like this as well."
   ]
  },
  {
   "cell_type": "markdown",
   "id": "aeccfd2b",
   "metadata": {
    "solveit_ai": true
   },
   "source": [
    "m\n",
    "\n",
    "##### 🤖Reply🤖<!-- SOLVEIT_SEPARATOR_7f3a9b2c -->\n",
    "\n",
    "```python\n",
    "mhc_detail_cards = [\n",
    "    AnkiCard(\n",
    "        front=\"What do MHC Class I molecules present and to which cells? 🔬\",\n",
    "        back=\"Present peptides from inside the cell (like viral proteins) to CD8+ T cells (cytotoxic T cells) 🦠➡️💀\",\n",
    "        deck=\"test1\",\n",
    "        tags=[\"immunology\", \"mhc\", \"mhc-class-i\"]\n",
    "    ),\n",
    "    AnkiCard(\n",
    "        front=\"What is the structure of MHC Class I? 🧱\",\n",
    "        back=\"One MHC-encoded α chain paired with β2-microglobulin 🔗\",\n",
    "        deck=\"test1\",\n",
    "        tags=[\"immunology\", \"mhc\", \"mhc-class-i\"]\n",
    "    ),\n",
    "    AnkiCard(\n",
    "        front=\"What do MHC Class II molecules present and to which cells? 🎯\",\n",
    "        back=\"Present peptides from extracellular proteins (like bacterial proteins) to CD4+ T cells (helper T cells) 🦠➡️🤝\",\n",
    "        deck=\"test1\",\n",
    "        tags=[\"immunology\", \"mhc\", \"mhc-class-ii\"]\n",
    "    ),\n",
    "    AnkiCard(\n",
    "        front=\"What is the structure of MHC Class II? 🧱\",\n",
    "        back=\"Two MHC-encoded chains (α and β) 🔗🔗\",\n",
    "        deck=\"test1\",\n",
    "        tags=[\"immunology\", \"mhc\", \"mhc-class-ii\"]\n",
    "    ),\n",
    "    AnkiCard(\n",
    "        front=\"What makes MHC Class III different from Classes I and II? 🤔\",\n",
    "        back=\"They aren't peptide-presenting molecules - they're secreted proteins with immune functions 💉\",\n",
    "        deck=\"test1\",\n",
    "        tags=[\"immunology\", \"mhc\", \"mhc-class-iii\"]\n",
    "    ),\n",
    "    AnkiCard(\n",
    "        front=\"What are examples of MHC Class III molecules? 📋\",\n",
    "        back=\"Complement system components, cytokines like TNF, heat shock proteins, and immune-related enzymes 🛡️🔥\",\n",
    "        deck=\"test1\",\n",
    "        tags=[\"immunology\", \"mhc\", \"mhc-class-iii\"]\n",
    "    )\n",
    "]\n",
    "display(*mhc_detail_cards)\n",
    "```"
   ]
  },
  {
   "cell_type": "markdown",
   "id": "eb56f60b",
   "metadata": {
    "heading_collapsed": true
   },
   "source": [
    "## Making cards from web page"
   ]
  },
  {
   "cell_type": "markdown",
   "id": "75760886",
   "metadata": {
    "hidden": true
   },
   "source": [
    "Solveit can also lookup url when we provide it and create cards from it."
   ]
  },
  {
   "cell_type": "markdown",
   "id": "d75e381c",
   "metadata": {
    "hidden": true,
    "solveit_ai": true
   },
   "source": [
    "Can you make cards from this url: `https://en.wikipedia.org/wiki/Marie_Curie`?\n",
    "\n",
    "##### 🤖Reply🤖<!-- SOLVEIT_SEPARATOR_7f3a9b2c -->\n",
    "\n",
    "<details class='tool-usage-details'>\n",
    "\n",
    " `read_url({\"url\": \"https://en.wikipedia.org/wiki/Marie_Curie\"})`\n",
    "  - `&#x27;Jump to content\\n\\nMain menu\\n\\nMain menu\\n\\nmove to sidebar hide\\n\\nNavigation\\n\\n  * [Main page](/wiki/Main_Page &quot;Visit the main page \\\\[z\\\\]&quot;)\\n  * [Contents](/wiki/Wikipedia:Contents &quot;Guides to browsing Wikipedia&quot;)\\n  * [Current events](/wiki/Portal:Current_events &quot;Articles related to current events&quot;)\\n  * [Random article](/wiki/Special:Random &quot;Visit a randomly selected article \\\\[x\\\\]&quot;)\\n  * [About Wikipedia](/wiki/Wikipedia:About &quot;Learn about Wikipedia and how it works&quot;)\\n  * [Contact us](//en.wikipedia.org/wiki/Wikipedia:Contact_us &quot;How to contact Wikipedia&quot;)\\n\\nContribute\\n\\n  * [Help](/wiki/Help:Contents &quot;Guidance on how to use and edit Wikipedia&quot;)\\n  * [Learn to edit](/wiki/Help:Introduction &quot;Learn how to edit Wikipedia&quot;)\\n  * [Community portal](/wiki/Wikipedia:Community_portal &quot;The hub for editors&quot;)\\n  * [Recent changes](/wiki/Special:RecentChanges &quot;A list of recent changes to Wikipedia \\\\[r\\\\]&quot;)\\n  * [Upload file](/wiki/Wikipedia:File_upload_wizard &quot;Add images or other media for use on Wikipedia&quot;)\\n  * [Special pages](/wiki/Special:SpecialPages)\\n\\n[ ![](/static/images/icons/wikipedia.png) ![Wikipedia](/static/images/mobile/copyright/wikipedia-wordmark-en.svg) ![The Free Encyclopedia](/static/images/mobile/copyright/wikipedia-tagline-en.svg) ](/wiki/Main_Page)\\n\\n[ Search ](/wiki/Special:Search &quot;Search Wikipedia \\\\[f\\\\]&quot;)\\n\\nSearch\\n\\nAppearance\\n\\n  * [Donate](https://donate.wikimedia.org/?wmf_source=donate&amp;wmf_medium=sidebar&amp;wmf_campaign=en.wikipedia.org&amp;uselang=en)\\n  * [Create account](/w/index.php?title=Special:CreateAccount&amp;returnto=Marie+Curie &quot;You are encouraged to create an account and log in; however, it is not mandatory&quot;)\\n  * [Log in](/w/index.php?title=Special:UserLogin&amp;returnto=Marie+Curie &quot;You\\&#x27;re encouraged to log in; however, it\\&#x27;s not mandatory. \\\\[o\\\\]&quot;)\\n\\nPerso…`\n",
    "\n",
    "</details>\n",
    "\n",
    "\n",
    "\n",
    "```python\n",
    "curie_cards = [\n",
    "    AnkiCard(\n",
    "        front=\"What were Marie Curie's Nobel Prize achievements? 🏆\",\n",
    "        back=\"• First woman to win a Nobel Prize (Physics, 1903)\\n• Only person to win Nobel Prizes in two different sciences (Physics 1903, Chemistry 1911) 🔬✨\",\n",
    "        deck=\"test1\",\n",
    "        tags=[\"marie-curie\", \"nobel-prize\", \"history-of-science\"]\n",
    "    ),\n",
    "    AnkiCard(\n",
    "        front=\"What elements did Marie Curie discover? ⚛️\",\n",
    "        back=\"Polonium (named after her native Poland 🇵🇱) and radium 💎\",\n",
    "        deck=\"test1\",\n",
    "        tags=[\"marie-curie\", \"chemistry\", \"radioactivity\"]\n",
    "    ),\n",
    "    AnkiCard(\n",
    "        front=\"What term did Marie Curie coin? 📝\",\n",
    "        back=\"Radioactivity ☢️ - she invented this word to describe the phenomenon she studied\",\n",
    "        deck=\"test1\",\n",
    "        tags=[\"marie-curie\", \"radioactivity\", \"terminology\"]\n",
    "    ),\n",
    "    AnkiCard(\n",
    "        front=\"What did Marie Curie do during World War I? 🚑\",\n",
    "        back=\"Developed mobile radiography units (petites Curies) to provide X-ray services to field hospitals, treating over a million wounded soldiers 🏥\",\n",
    "        deck=\"test1\",\n",
    "        tags=[\"marie-curie\", \"wwi\", \"medical-technology\"]\n",
    "    ),\n",
    "    AnkiCard(\n",
    "        front=\"How did Marie Curie die? 💀\",\n",
    "        back=\"Aplastic anaemia (aged 66) from long-term exposure to radiation ☢️ - the dangers weren't known during her lifetime\",\n",
    "        deck=\"test1\",\n",
    "        tags=[\"marie-curie\", \"radiation\", \"health-effects\"]\n",
    "    )\n",
    "]\n",
    "display(*curie_cards)\n",
    "```"
   ]
  },
  {
   "cell_type": "code",
   "execution_count": null,
   "id": "9cf5601f",
   "metadata": {
    "hidden": true,
    "time_run": "12:12:17a"
   },
   "outputs": [
    {
     "data": {
      "text/html": [
       "<div class=\"uk-card hover:shadow-lg transition-shadow\">\n",
       "  <div class=\"uk-card-header \">\n",
       "    <h4 class=\"uk-h4 \">Anki Card</h4>\n",
       "    <div class=\"space-x-2\">\n",
       "<label class=\"uk-label uk-label-secondary\">Unsaved</label><label class=\"uk-label \">test1</label><label class=\"uk-label \">marie-curie</label><label class=\"uk-label \">nobel-prize</label><label class=\"uk-label \">history-of-science</label>    </div>\n",
       "  </div>\n",
       "  <div class=\"uk-card-body space-y-6\">\n",
       "    <div class=\"mb-3\">\n",
       "      <p class=\"font-medium\">What were Marie Curie's Nobel Prize achievements? 🏆</p>\n",
       "    </div>\n",
       "<hr class=\"my-4 uk-divider-icon\">    <div class=\"mt-3\">\n",
       "<pre class=\"text-gray-500 dark:text-gray-200 text-sm\">• First woman to win a Nobel Prize (Physics, 1903)\n",
       "• Only person to win Nobel Prizes in two different sciences (Physics 1903, Chemistry 1911) 🔬✨</pre>    </div>\n",
       "  </div>\n",
       "</div>\n"
      ],
      "text/plain": [
       "AnkiCard(front='What were Marie Curie's Nobel Prize achievements? 🏆...',\n",
       " back='• First woman to win a Nobel Prize (Physics, 1903)\n",
       "• Only person to win Nobel Prizes in two different sciences (Physics ...',\n",
       " deck='test1,\n",
       " status=unsaved')"
      ]
     },
     "metadata": {},
     "output_type": "display_data"
    },
    {
     "data": {
      "text/html": [
       "<div class=\"uk-card hover:shadow-lg transition-shadow\">\n",
       "  <div class=\"uk-card-header \">\n",
       "    <h4 class=\"uk-h4 \">Anki Card</h4>\n",
       "    <div class=\"space-x-2\">\n",
       "<label class=\"uk-label uk-label-secondary\">Unsaved</label><label class=\"uk-label \">test1</label><label class=\"uk-label \">marie-curie</label><label class=\"uk-label \">chemistry</label><label class=\"uk-label \">radioactivity</label>    </div>\n",
       "  </div>\n",
       "  <div class=\"uk-card-body space-y-6\">\n",
       "    <div class=\"mb-3\">\n",
       "      <p class=\"font-medium\">What elements did Marie Curie discover? ⚛️</p>\n",
       "    </div>\n",
       "<hr class=\"my-4 uk-divider-icon\">    <div class=\"mt-3\">\n",
       "<pre class=\"text-gray-500 dark:text-gray-200 text-sm\">Polonium (named after her native Poland 🇵🇱) and radium 💎</pre>    </div>\n",
       "  </div>\n",
       "</div>\n"
      ],
      "text/plain": [
       "AnkiCard(front='What elements did Marie Curie discover? ⚛️...',\n",
       " back='Polonium (named after her native Poland 🇵🇱) and radium 💎...',\n",
       " deck='test1,\n",
       " status=unsaved')"
      ]
     },
     "metadata": {},
     "output_type": "display_data"
    },
    {
     "data": {
      "text/html": [
       "<div class=\"uk-card hover:shadow-lg transition-shadow\">\n",
       "  <div class=\"uk-card-header \">\n",
       "    <h4 class=\"uk-h4 \">Anki Card</h4>\n",
       "    <div class=\"space-x-2\">\n",
       "<label class=\"uk-label uk-label-secondary\">Unsaved</label><label class=\"uk-label \">test1</label><label class=\"uk-label \">marie-curie</label><label class=\"uk-label \">radioactivity</label><label class=\"uk-label \">terminology</label>    </div>\n",
       "  </div>\n",
       "  <div class=\"uk-card-body space-y-6\">\n",
       "    <div class=\"mb-3\">\n",
       "      <p class=\"font-medium\">What term did Marie Curie coin? 📝</p>\n",
       "    </div>\n",
       "<hr class=\"my-4 uk-divider-icon\">    <div class=\"mt-3\">\n",
       "<pre class=\"text-gray-500 dark:text-gray-200 text-sm\">Radioactivity ☢️ - she invented this word to describe the phenomenon she studied</pre>    </div>\n",
       "  </div>\n",
       "</div>\n"
      ],
      "text/plain": [
       "AnkiCard(front='What term did Marie Curie coin? 📝...',\n",
       " back='Radioactivity ☢️ - she invented this word to describe the phenomenon she studied...',\n",
       " deck='test1,\n",
       " status=unsaved')"
      ]
     },
     "metadata": {},
     "output_type": "display_data"
    },
    {
     "data": {
      "text/html": [
       "<div class=\"uk-card hover:shadow-lg transition-shadow\">\n",
       "  <div class=\"uk-card-header \">\n",
       "    <h4 class=\"uk-h4 \">Anki Card</h4>\n",
       "    <div class=\"space-x-2\">\n",
       "<label class=\"uk-label uk-label-secondary\">Unsaved</label><label class=\"uk-label \">test1</label><label class=\"uk-label \">marie-curie</label><label class=\"uk-label \">wwi</label><label class=\"uk-label \">medical-technology</label>    </div>\n",
       "  </div>\n",
       "  <div class=\"uk-card-body space-y-6\">\n",
       "    <div class=\"mb-3\">\n",
       "      <p class=\"font-medium\">What did Marie Curie do during World War I? 🚑</p>\n",
       "    </div>\n",
       "<hr class=\"my-4 uk-divider-icon\">    <div class=\"mt-3\">\n",
       "<pre class=\"text-gray-500 dark:text-gray-200 text-sm\">Developed mobile radiography units (petites Curies) to provide X-ray services to field hospitals, treating over a million wounded soldiers 🏥</pre>    </div>\n",
       "  </div>\n",
       "</div>\n"
      ],
      "text/plain": [
       "AnkiCard(front='What did Marie Curie do during World War I? 🚑...',\n",
       " back='Developed mobile radiography units (petites Curies) to provide X-ray services to field hospitals, treating over a millio...',\n",
       " deck='test1,\n",
       " status=unsaved')"
      ]
     },
     "metadata": {},
     "output_type": "display_data"
    },
    {
     "data": {
      "text/html": [
       "<div class=\"uk-card hover:shadow-lg transition-shadow\">\n",
       "  <div class=\"uk-card-header \">\n",
       "    <h4 class=\"uk-h4 \">Anki Card</h4>\n",
       "    <div class=\"space-x-2\">\n",
       "<label class=\"uk-label uk-label-secondary\">Unsaved</label><label class=\"uk-label \">test1</label><label class=\"uk-label \">marie-curie</label><label class=\"uk-label \">radiation</label><label class=\"uk-label \">health-effects</label>    </div>\n",
       "  </div>\n",
       "  <div class=\"uk-card-body space-y-6\">\n",
       "    <div class=\"mb-3\">\n",
       "      <p class=\"font-medium\">How did Marie Curie die? 💀</p>\n",
       "    </div>\n",
       "<hr class=\"my-4 uk-divider-icon\">    <div class=\"mt-3\">\n",
       "<pre class=\"text-gray-500 dark:text-gray-200 text-sm\">Aplastic anaemia (aged 66) from long-term exposure to radiation ☢️ - the dangers weren't known during her lifetime</pre>    </div>\n",
       "  </div>\n",
       "</div>\n"
      ],
      "text/plain": [
       "AnkiCard(front='How did Marie Curie die? 💀...',\n",
       " back='Aplastic anaemia (aged 66) from long-term exposure to radiation ☢️ - the dangers weren't known during her lifetime...',\n",
       " deck='test1,\n",
       " status=unsaved')"
      ]
     },
     "metadata": {},
     "output_type": "display_data"
    }
   ],
   "source": [
    "curie_cards = [\n",
    "    AnkiCard(\n",
    "        front=\"What were Marie Curie's Nobel Prize achievements? 🏆\",\n",
    "        back=\"• First woman to win a Nobel Prize (Physics, 1903)\\n• Only person to win Nobel Prizes in two different sciences (Physics 1903, Chemistry 1911) 🔬✨\",\n",
    "        deck=\"test1\",\n",
    "        tags=[\"marie-curie\", \"nobel-prize\", \"history-of-science\"]\n",
    "    ),\n",
    "    AnkiCard(\n",
    "        front=\"What elements did Marie Curie discover? ⚛️\",\n",
    "        back=\"Polonium (named after her native Poland 🇵🇱) and radium 💎\",\n",
    "        deck=\"test1\",\n",
    "        tags=[\"marie-curie\", \"chemistry\", \"radioactivity\"]\n",
    "    ),\n",
    "    AnkiCard(\n",
    "        front=\"What term did Marie Curie coin? 📝\",\n",
    "        back=\"Radioactivity ☢️ - she invented this word to describe the phenomenon she studied\",\n",
    "        deck=\"test1\",\n",
    "        tags=[\"marie-curie\", \"radioactivity\", \"terminology\"]\n",
    "    ),\n",
    "    AnkiCard(\n",
    "        front=\"What did Marie Curie do during World War I? 🚑\",\n",
    "        back=\"Developed mobile radiography units (petites Curies) to provide X-ray services to field hospitals, treating over a million wounded soldiers 🏥\",\n",
    "        deck=\"test1\",\n",
    "        tags=[\"marie-curie\", \"wwi\", \"medical-technology\"]\n",
    "    ),\n",
    "    AnkiCard(\n",
    "        front=\"How did Marie Curie die? 💀\",\n",
    "        back=\"Aplastic anaemia (aged 66) from long-term exposure to radiation ☢️ - the dangers weren't known during her lifetime\",\n",
    "        deck=\"test1\",\n",
    "        tags=[\"marie-curie\", \"radiation\", \"health-effects\"]\n",
    "    )\n",
    "]\n",
    "display(*curie_cards)"
   ]
  },
  {
   "cell_type": "markdown",
   "id": "7a252d86",
   "metadata": {},
   "source": [
    "## Using function calls"
   ]
  },
  {
   "cell_type": "markdown",
   "id": "16a901de",
   "metadata": {},
   "source": [
    "Solveit can use `invoke` for function calls. This allows it to look at the deck and find cards, count cards, etc."
   ]
  },
  {
   "cell_type": "markdown",
   "id": "b731a304",
   "metadata": {
    "solveit_ai": true
   },
   "source": [
    "How many cards in my deck so far? Use `invoke` function calls.\n",
    "\n",
    "##### 🤖Reply🤖<!-- SOLVEIT_SEPARATOR_7f3a9b2c -->\n",
    "\n",
    "<details class='tool-usage-details'>\n",
    "\n",
    " `invoke({\"action\": \"findNotes\", \"params\": {\"query\":\"deck:test1\"}})`\n",
    "  - `[1740841641532,  1740841641652,  1740841641717,  1740841641871,  1740851510747,  1740851510826,  1740851510888,  1740851510948,  1740889393650,  1740890503216,  1740890503277,  1740890503338,  1740890503399,  1740890503460,  1740891088636,  1740891088697,  1740891088760,  1740891088821,  1740891242609,  1740891242673,  1740891242734,  1740891242798,  1740891242859,  1740891564715,  1740891564929,  1740892218877,  1740892218939,  1740892884683,  1740892884756,  1740892884832,  1740892884893,  1740892884954,  1740892885017,  1740893260762,  1740893260822,  1740894621274,  1740894621382,  1740894621453,  1740928573495,  1740928573557,  1740928573618,  1740928573681,  1740928573742,  1740932241032,  1740932241156,  1740932241218,  1740932565414,  1740932565522,  1740932565583,  1740932565662,  1740933171822,  1740933171942,  1740933172037,  1740933172128,  1740943690386,  1740943690475,  1740943690553,  1740943690630,  1740943690696,  1740943978651,  1740943978747,  1740943978810,  1740943978873,  1740945002722,  1740945002784,  1740945002847,  1740945002927,  1740945002992,  1740945401588,  1740945401652,  1740945401715,  1740945704328,  1740945704392,  1740945704457,  1740945704519,  1740946073002,  1740946073065,  1740946073125,  1740946073192,  1740946073259,  1740950443073,  1740950443131,  1740950443192,  1740950443261,  1740958531957,  1740958532022,  1740962361471,  1740962361555,  1740962361617,  1740962361683,  1740962361770,  1740964860370,  1740964860459,  1740964860520,  1740964860585,  1740964860648,  1740976014784,  1740976014869,  1740976014935,  1740976014991,  1740976015054,  1740976547519,  1740976547665,  1740976547727,  1740976547795,  1740976719172,  1740976719234,  1740976719298,  1740976719360,  1740976719422,  1741010031133,  1741010031191,  1741010031255,  1741010031318,  1741010031380,  1741010605444,  1741010605507,  1741010605568,  1741010605631,  1741010605692,  1742441396071,  1742441396207,  1742441396265,  1742441396324,  1742441396408, …`\n",
    "\n",
    "</details>\n",
    "\n",
    "\n",
    "\n",
    "You have **362 cards** in your `test1` deck! 📚✨"
   ]
  },
  {
   "cell_type": "markdown",
   "id": "dcf99a4c",
   "metadata": {
    "solveit_ai": true
   },
   "source": [
    "Do I have cards with `MHC Class I molecules` in my deck already?\n",
    "\n",
    "##### 🤖Reply🤖<!-- SOLVEIT_SEPARATOR_7f3a9b2c -->\n",
    "\n",
    "<details class='tool-usage-details'>\n",
    "\n",
    " `invoke({\"action\": \"findNotes\", \"params\": {\"query\":\"deck:test1 \\\"MHC Class I molecules\\\"\"}})`\n",
    "  - `[1744589960096]`\n",
    "\n",
    "</details>\n",
    "\n",
    "\n",
    "\n",
    "Yes! You have **1 card** with \"MHC Class I molecules\" in your `test1` deck already. 🎯"
   ]
  },
  {
   "cell_type": "markdown",
   "id": "46657abf",
   "metadata": {},
   "source": [
    "There are more things solveit can do agentically with `invoke`! Take a look at [AnkiConnect doc](https://git.sr.ht/~foosoft/anki-connect) or ask solveit!"
   ]
  },
  {
   "cell_type": "markdown",
   "id": "48b7d877",
   "metadata": {
    "solveit_ai": true
   },
   "source": [
    "What else can you do with `invoke`?\n",
    "\n",
    "##### 🤖Reply🤖<!-- SOLVEIT_SEPARATOR_7f3a9b2c -->\n",
    "\n",
    "With `invoke`, I can do lots of things with your Anki deck! Here are some useful capabilities:\n",
    "\n",
    "**Card Management:**\n",
    "- Find specific cards with search queries (like we just did)\n",
    "- Get card info (review stats, intervals, ease factor)\n",
    "- Suspend/unsuspend cards\n",
    "- Change card decks or tags\n",
    "- Get cards due for review today\n",
    "\n",
    "**Deck Operations:**\n",
    "- Create new decks\n",
    "- Delete decks\n",
    "- Get deck statistics (new/learning/review counts)\n",
    "- Export decks\n",
    "\n",
    "**Note Operations:**\n",
    "- Find notes by query\n",
    "- Get all note fields and tags\n",
    "- Add media files (images, audio)\n",
    "- Find duplicate notes\n",
    "\n",
    "**Study Session Info:**\n",
    "- Get review statistics\n",
    "- Check what cards are due\n",
    "- See learning progress\n",
    "\n",
    "**Advanced Queries:**\n",
    "- Search by tags, deck, card state, date added, etc.\n",
    "- Combine multiple search criteria\n",
    "\n",
    "For example, I could:\n",
    "- Find all cards tagged with \"immunology\" \n",
    "- Check how many cards are due for review today\n",
    "- Get statistics on your study progress\n",
    "- Find cards you've recently added or modified\n",
    "\n",
    "What would you like to explore? 🎯"
   ]
  },
  {
   "cell_type": "markdown",
   "id": "1c9af97a",
   "metadata": {},
   "source": [
    "## Conclusion"
   ]
  },
  {
   "cell_type": "markdown",
   "id": "6f5c1bd9",
   "metadata": {},
   "source": [
    "That's it. Creating anki cards with solveit is so awesome and fun. Try it out!"
   ]
  }
 ],
 "metadata": {
  "solveit_dialog_mode": "concise",
  "solveit_ver": 2
 },
 "nbformat": 4,
 "nbformat_minor": 5
}
