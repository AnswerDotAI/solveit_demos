{
 "cells": [
  {
   "cell_type": "markdown",
   "id": "10a41afb",
   "metadata": {},
   "source": [
    "# Solveit Demo: Styling FT Components\n",
    "\n",
    "**Author: Jonathan Whitaker**\n",
    "\n",
    "**Purpose:** Showcase some ways of incrementally building up styled UI components in solveit, complete with interactivity\n",
    "\n",
    "**Summary:** FastHTML has some pieces that make it play nicely with jupyter. In this dialog we show how you can try out different styling options, viewing components in isolated iframes to see how they will look in a finished, deployed application."
   ]
  },
  {
   "cell_type": "code",
   "execution_count": null,
   "id": "4d0222bf",
   "metadata": {
    "time_run": "9:23:25p"
   },
   "outputs": [],
   "source": [
    "from fasthtml.common import *\n",
    "from fasthtml.jupyter import HTMX, JupyUvi"
   ]
  },
  {
   "cell_type": "markdown",
   "id": "2e9bbce3",
   "metadata": {},
   "source": [
    "## Rendering FT Components\n",
    "\n",
    "In FastHTML, we use 'Fast Tag' (FT) components to represent HTML elements. fasthtml.common includes fts for all HTML tags. You can use them to build up HTML:"
   ]
  },
  {
   "cell_type": "code",
   "execution_count": null,
   "id": "568219cb",
   "metadata": {
    "time_run": "9:12:11p"
   },
   "outputs": [
    {
     "data": {
      "text/markdown": [
       "```html\n",
       "<div>\n",
       "  <h2>Heading</h2>\n",
       "<button>Click Me!</button>  <p>Hello</p>\n",
       "</div>\n",
       "\n",
       "```"
      ],
      "text/plain": [
       "div((h2(('Heading',),{}), button(('Click Me!',),{}), p(('Hello',),{})),{})"
      ]
     },
     "execution_count": 10,
     "metadata": {},
     "output_type": "execute_result"
    }
   ],
   "source": [
    "x = Div(H2(\"Heading\"), Button(\"Click Me!\"), P(\"Hello\"))\n",
    "x"
   ]
  },
  {
   "cell_type": "markdown",
   "id": "b4af374d",
   "metadata": {},
   "source": [
    "By default, we show the XML representation of an ft component when you end a message with it. You can also explitly call `to_xml(x)` to get it as a string. But often we want to see what it looks like rendered - which is where the `show` function comes in. If you *always* want things rendered, you can call `render_ft()` (from fasthtml.jupyter) to change the default - but for this demo we'll use show explicitly for clarity."
   ]
  },
  {
   "cell_type": "code",
   "execution_count": null,
   "id": "1df9c58c",
   "metadata": {
    "time_run": "9:12:12p"
   },
   "outputs": [
    {
     "data": {
      "text/html": [
       "<div>\n",
       "  <h2>Heading</h2>\n",
       "<button>Click Me!</button>  <p>Hello</p>\n",
       "</div>\n"
      ],
      "text/plain": [
       "<IPython.core.display.HTML object>"
      ]
     },
     "metadata": {},
     "output_type": "display_data"
    }
   ],
   "source": [
    "show(x)"
   ]
  },
  {
   "cell_type": "markdown",
   "id": "8947b3f7",
   "metadata": {},
   "source": [
    "If you pasted the raw HTML into an empty `index.html` file and viewed it in a browser, this isn't quite what you'd see. This is because `show` by default renders the HTML in our current page - which has some changes thanks to solveit's styling applied. To see it with the browser default styles, we can instead use an iframe to keep it isolated from the global page styles:"
   ]
  },
  {
   "cell_type": "code",
   "execution_count": null,
   "id": "94019a33",
   "metadata": {
    "time_run": "9:12:14p"
   },
   "outputs": [
    {
     "data": {
      "text/html": [
       "<iframe srcdoc=\"&lt;div&gt;\n",
       "  &lt;h2&gt;Heading&lt;/h2&gt;\n",
       "&lt;button&gt;Click Me!&lt;/button&gt;  &lt;p&gt;Hello&lt;/p&gt;\n",
       "&lt;/div&gt;\n",
       "\" width=\"100%\" height=\"auto\" style=\"border: none; \"></iframe>"
      ],
      "text/plain": [
       "<IPython.core.display.HTML object>"
      ]
     },
     "metadata": {},
     "output_type": "display_data"
    }
   ],
   "source": [
    "show(x, iframe=True)"
   ]
  },
  {
   "cell_type": "markdown",
   "id": "e4af8d0a",
   "metadata": {},
   "source": [
    "Not many people love the raw bowser styling though! So we usually create FastHTML apps with some sort of styling approach. This could be tailwind or bootstrap, or a minimal CSS library like PicoCSS or Sakura, or some framework like MonsterUI that builds on one of these foundations, or simply a big CSS file that you (or AI) creates manually. But if we're loading up CSS headers and so on, how do we get them to apply when we're previewing components? Let's look at an example using Sakura CSS. We specify the headers we'll need to load in the CSS:"
   ]
  },
  {
   "cell_type": "code",
   "execution_count": null,
   "id": "774f9171",
   "metadata": {
    "time_run": "9:12:15p"
   },
   "outputs": [],
   "source": [
    "sakura_headers = [Link(href='https://cdn.jsdelivr.net/npm/sakura.css/css/sakura.css', rel='stylesheet', type='text/css')]"
   ]
  },
  {
   "cell_type": "markdown",
   "id": "329b368f",
   "metadata": {},
   "source": [
    "We can create a full `Html` page including these headers each time, and view it that way:"
   ]
  },
  {
   "cell_type": "code",
   "execution_count": null,
   "id": "44e44853",
   "metadata": {
    "time_run": "9:12:17p"
   },
   "outputs": [
    {
     "data": {
      "text/html": [
       "<iframe srcdoc='&lt;!doctype html&gt;\n",
       "&lt;html&gt;\n",
       "  &lt;head&gt;\n",
       "    &lt;link href=\"https://cdn.jsdelivr.net/npm/sakura.css/css/sakura.css\" rel=\"stylesheet\" type=\"text/css\"&gt;\n",
       "  &lt;/head&gt;\n",
       "  &lt;body&gt;\n",
       "    &lt;div&gt;\n",
       "      &lt;h2&gt;Heading&lt;/h2&gt;\n",
       "&lt;button&gt;Click Me!&lt;/button&gt;      &lt;p&gt;Hello&lt;/p&gt;\n",
       "    &lt;/div&gt;\n",
       "  &lt;/body&gt;\n",
       "&lt;/html&gt;\n",
       "' width=\"100%\" height=\"200\" style=\"border: none; \"></iframe>"
      ],
      "text/plain": [
       "<IPython.core.display.HTML object>"
      ]
     },
     "metadata": {},
     "output_type": "display_data"
    }
   ],
   "source": [
    "def qshow(*c, height='auto'):\n",
    "    doc = Html(Head(*sakura_headers), Body(*c))\n",
    "    show(doc, iframe=True, height=height)\n",
    "qshow(x, height=200)"
   ]
  },
  {
   "cell_type": "markdown",
   "id": "36f625b6",
   "metadata": {},
   "source": [
    "In practice, we're usually making our components to go in an app, and we specify the headers when creating the app. For example:"
   ]
  },
  {
   "cell_type": "code",
   "execution_count": null,
   "id": "d3f3cfff",
   "metadata": {
    "time_run": "9:12:26p"
   },
   "outputs": [],
   "source": [
    "app = FastHTML(hdrs = sakura_headers) # A FastHTML app, including the sakura CSS link in the headers\n",
    "rt = app.route\n",
    "server = JupyUvi(app) # Starts a server on port 8000 hosting the app"
   ]
  },
  {
   "cell_type": "markdown",
   "id": "6d82854a",
   "metadata": {},
   "source": [
    "To see what our component looks like, we can pass it to `fasthtml.jupyter.HTMX` along with the app, like so:"
   ]
  },
  {
   "cell_type": "code",
   "execution_count": null,
   "id": "64b9ebbf",
   "metadata": {
    "time_run": "9:12:29p"
   },
   "outputs": [
    {
     "data": {
      "text/html": [
       "<iframe src=\"/_gpXHAYj5Q-SsLzpdvlRLYQ\" style=\"width: 100%; height: auto; border: none;\" onload=\"{\n",
       "        let frame = this;\n",
       "        window.addEventListener('message', function(e) {\n",
       "            if (e.source !== frame.contentWindow) return; // Only proceed if the message is from this iframe\n",
       "            if (e.data.height) frame.style.height = (e.data.height+1) + 'px';\n",
       "        }, false);\n",
       "    }\" allow=\"accelerometer; autoplay; camera; clipboard-read; clipboard-write; display-capture; encrypted-media; fullscreen; gamepad; geolocation; gyroscope; hid; identity-credentials-get; idle-detection; magnetometer; microphone; midi; payment; picture-in-picture; publickey-credentials-get; screen-wake-lock; serial; usb; web-share; xr-spatial-tracking\"></iframe> "
      ],
      "text/plain": [
       "<IPython.core.display.HTML object>"
      ]
     },
     "execution_count": 28,
     "metadata": {},
     "output_type": "execute_result"
    }
   ],
   "source": [
    "HTMX(x, host=None, app=app)"
   ]
  },
  {
   "cell_type": "markdown",
   "id": "67524690",
   "metadata": {},
   "source": [
    "This is the most reliable way to see exactly how it'll look in your actual application, since it contains all the same headers and so on that are used in the app itself. We'll use it here, since we're mixing and matching different approaches - so we'll compress it into a tiny little function for convenience:"
   ]
  },
  {
   "cell_type": "code",
   "execution_count": null,
   "id": "490d4557",
   "metadata": {
    "time_run": "9:12:35p"
   },
   "outputs": [],
   "source": [
    "def s(*c): return HTMX(*c, host='', app=app)"
   ]
  },
  {
   "cell_type": "markdown",
   "id": "720c00e9",
   "metadata": {},
   "source": [
    "Nerdy aside: If your CSS framework is class-conditional, like PicoCSS, then you can use `render_ft(cls='pico')` to tell solveit to wrap all rendered FT components wrapped in a div with the 'pico' class - which means as long as you've also shown the pico link, you'll see them with styling applied without needing this HTMX approach, and without even needing `show`."
   ]
  },
  {
   "cell_type": "markdown",
   "id": "9557bf69",
   "metadata": {},
   "source": [
    "## Aside: Adding Interactivity\n",
    "\n",
    "Solveit implements a proxy such that any requests that aren't routes reserved for solveit itself (`index` plus a number of internal routes starting with `_`) are passed through to port 8000 - so if you have an app, and a server serving that app on port 8000 (the default), you can do interactive HTML things like this:"
   ]
  },
  {
   "cell_type": "code",
   "execution_count": null,
   "id": "6a647543",
   "metadata": {
    "time_run": "9:13:12p"
   },
   "outputs": [
    {
     "data": {
      "text/html": [
       "<iframe src=\"/_jS1k6NF3SLiTvBujpCSaRA\" style=\"width: 100%; height: auto; border: none;\" onload=\"{\n",
       "        let frame = this;\n",
       "        window.addEventListener('message', function(e) {\n",
       "            if (e.source !== frame.contentWindow) return; // Only proceed if the message is from this iframe\n",
       "            if (e.data.height) frame.style.height = (e.data.height+1) + 'px';\n",
       "        }, false);\n",
       "    }\" allow=\"accelerometer; autoplay; camera; clipboard-read; clipboard-write; display-capture; encrypted-media; fullscreen; gamepad; geolocation; gyroscope; hid; identity-credentials-get; idle-detection; magnetometer; microphone; midi; payment; picture-in-picture; publickey-credentials-get; screen-wake-lock; serial; usb; web-share; xr-spatial-tracking\"></iframe> "
      ],
      "text/plain": [
       "<IPython.core.display.HTML object>"
      ]
     },
     "execution_count": 35,
     "metadata": {},
     "output_type": "execute_result"
    }
   ],
   "source": [
    "@rt\n",
    "def hello(name: str): return P(f\"Hello {name}!\")\n",
    "\n",
    "s(Div(\n",
    "    H3(\"Say Hello\"),\n",
    "    Form(\n",
    "        Input(placeholder=\"Your name...\", id='name'),\n",
    "        Button(\"Send\"),\n",
    "        hx_get=hello, hx_target=\"#result\"\n",
    "    ),\n",
    "    Div(id='result'),\n",
    "))"
   ]
  },
  {
   "cell_type": "markdown",
   "id": "53afb880",
   "metadata": {},
   "source": [
    "The `hello` route takes a name and returns an HTML partial - in this case, a paragraph (`P`) saying hello. We display a form, with `hx_get` pointing to our `hello` route and an `hx_target` sauying where the returned partial should be placed - in this case, into a Div we make with the id 'result'. We're not going to show much of this interaction in this demo - but check out the FastHTML docs if you want to learn more!"
   ]
  },
  {
   "cell_type": "markdown",
   "id": "8f12a34a",
   "metadata": {},
   "source": [
    "# MonsterUI\n",
    "\n",
    "[MonsterUI](https://monsterui.answer.ai/) is a UI framework built for FastHTML. It leverages Tailwind, with a class-based approach to styling. If you import components from monsterui.all, you'll see that they have some class strings built in:"
   ]
  },
  {
   "cell_type": "code",
   "execution_count": null,
   "id": "d9669530",
   "metadata": {
    "time_run": "9:24:06p"
   },
   "outputs": [],
   "source": [
    "from monsterui.all import *"
   ]
  },
  {
   "cell_type": "code",
   "execution_count": null,
   "id": "fdbc97ad",
   "metadata": {
    "time_run": "9:24:11p"
   },
   "outputs": [
    {
     "data": {
      "text/markdown": [
       "```html\n",
       "<h1 class=\"uk-h1 \">Hello</h1>\n",
       "\n",
       "```"
      ],
      "text/plain": [
       "h1(('Hello',),{'class': 'uk-h1 '})"
      ]
     },
     "execution_count": 49,
     "metadata": {},
     "output_type": "execute_result"
    }
   ],
   "source": [
    "H1(\"Hello\")"
   ]
  },
  {
   "cell_type": "markdown",
   "id": "3a274989",
   "metadata": {},
   "source": [
    "Notice: H1 (previously imported from fasthtml.common) has now been over-written with a version that includes the relevant class string. If we show this in the page, we'll see it rendered nicely:"
   ]
  },
  {
   "cell_type": "code",
   "execution_count": null,
   "id": "6c3fa61f",
   "metadata": {
    "time_run": "9:25:16p"
   },
   "outputs": [
    {
     "data": {
      "text/html": [
       "<h1 class=\"uk-h1 \">Hello</h1>\n"
      ],
      "text/plain": [
       "<IPython.core.display.HTML object>"
      ]
     },
     "metadata": {},
     "output_type": "display_data"
    }
   ],
   "source": [
    "show(H1(\"Hello\"))"
   ]
  },
  {
   "cell_type": "markdown",
   "id": "39b7a0ad",
   "metadata": {},
   "source": [
    "If you want to replicate this in your app, you need the right headers though. So, let's make a fresh app with the blue theme headers and check that we see the same thing:"
   ]
  },
  {
   "cell_type": "code",
   "execution_count": null,
   "id": "7d528757",
   "metadata": {
    "time_run": "9:26:25p"
   },
   "outputs": [],
   "source": [
    "if server: server.stop(); del server\n",
    "app = FastHTML(hdrs = Theme.blue.headers())\n",
    "server = JupyUvi(app)"
   ]
  },
  {
   "cell_type": "code",
   "execution_count": null,
   "id": "b9efa8d0",
   "metadata": {
    "time_run": "9:27:31p"
   },
   "outputs": [
    {
     "data": {
      "text/html": [
       "<iframe src=\"/_Kx19jE_CSUSVhWwCoxYSKg\" style=\"width: 100%; height: auto; border: none;\" onload=\"{\n",
       "        let frame = this;\n",
       "        window.addEventListener('message', function(e) {\n",
       "            if (e.source !== frame.contentWindow) return; // Only proceed if the message is from this iframe\n",
       "            if (e.data.height) frame.style.height = (e.data.height+1) + 'px';\n",
       "        }, false);\n",
       "    }\" allow=\"accelerometer; autoplay; camera; clipboard-read; clipboard-write; display-capture; encrypted-media; fullscreen; gamepad; geolocation; gyroscope; hid; identity-credentials-get; idle-detection; magnetometer; microphone; midi; payment; picture-in-picture; publickey-credentials-get; screen-wake-lock; serial; usb; web-share; xr-spatial-tracking\"></iframe> "
      ],
      "text/plain": [
       "<IPython.core.display.HTML object>"
      ]
     },
     "execution_count": 57,
     "metadata": {},
     "output_type": "execute_result"
    }
   ],
   "source": [
    "s(H1(\"Hello\"))"
   ]
  },
  {
   "cell_type": "markdown",
   "id": "2a8c5ccd",
   "metadata": {},
   "source": [
    "Let's try to build out a piece of UI in MonsterUI. Perhaps a prompt box for an image generator app. We could start by skimming the MonsterUI docs for examples, or we could start out confidently with a guess and refine from there :) We saw a form earlier - let's see what one looks like with MonsterUI:"
   ]
  },
  {
   "cell_type": "code",
   "execution_count": null,
   "id": "b8aff98b",
   "metadata": {
    "time_run": "9:30:24p"
   },
   "outputs": [
    {
     "data": {
      "text/html": [
       "<form enctype=\"multipart/form-data\" class=\"space-y-3\">  <input placeholder=\"Your Prompt\" class=\"uk-input \">\n",
       "<button type=\"submit\" class=\"uk-btn uk-btn-default\">Submit</button></form>"
      ],
      "text/plain": [
       "<IPython.core.display.HTML object>"
      ]
     },
     "metadata": {},
     "output_type": "display_data"
    }
   ],
   "source": [
    "form = Form(\n",
    "    Input(placeholder=\"Your Prompt\"),\n",
    "    Button(\"Submit\", type='submit')\n",
    ")\n",
    "show(form)"
   ]
  },
  {
   "cell_type": "markdown",
   "id": "529961d0",
   "metadata": {
    "collapsed": true,
    "solveit_ai": true
   },
   "source": [
    "Can you look up the monsterui docs and tell me 1) How do I put these on the same line easily and 2) how do I make the button stand out like a primary button?\n",
    "\n",
    "##### 🤖Reply🤖<!-- SOLVEIT_SEPARATOR_7f3a9b2c -->\n",
    "\n",
    "I'll look up the MonsterUI docs for you.Let me look at the actual MonsterUI API documentation to find information about forms and buttons:\n",
    "\n",
    "<details class='tool-usage-details'>\n",
    "\n",
    "```json\n",
    "{\n",
    "  \"id\": \"toolu_017Bhqiwr6H9whXKJ7QhCg8i\",\n",
    "  \"call\": {\n",
    "    \"function\": \"read_url\",\n",
    "    \"arguments\": {\n",
    "      \"url\": \"https://monsterui.answer.ai/\"\n",
    "    }\n",
    "  },\n",
    "  \"result\": \"'* Getting Started\\\\n    * Getting Started\\\\n    * Tutorial App\\\\n  * API Reference\\\\n    * Accordion | Link\\\\n    * Button | Link\\\\n    * Cards\\\\n    * Charts\\\\n    * Containers\\\\n    * Dividers\\\\n    * Forms\\\\n    * Html\\\\n    * Icons | Images\\\\n    * Layout\\\\n    * Lightbox\\\\n    * Lists\\\\n    * Loading\\\\n    * Markdown\\\\n    * Modals\\\\n    * Navigation\\\\n    * Notifications\\\\n    * Sliders\\\\n    * Steps\\\\n    * Tables\\\\n    * Theme | Headers\\\\n    * Typography\\\\n  * Guides\\\\n    * Spacing\\\\n    * Layout\\\\n  * Examples\\\\n    * Task\\\\n    * Card\\\\n    * Dashboard\\\\n    * Form\\\\n    * Music\\\\n    * Auth\\\\n    * Playground\\\\n    * Mail\\\\n    * Ticket\\\\n    * Scrollspy\\\\n  * Theme\\\\n\\\\n  * Getting Started\\\\n    * Getting Started\\\\n    * Tutorial App\\\\n  * API Reference\\\\n    * Accordion | Link\\\\n    * Button | Link\\\\n    * Cards\\\\n    * Charts\\\\n    * Containers\\\\n    * Dividers\\\\n    * Forms\\\\n    * Html\\\\n    * Icons | Images\\\\n    * Layout\\\\n    * Lightbox\\\\n    * Lists\\\\n    * Loading\\\\n    * Markdown\\\\n    * Modals\\\\n    * Navigation\\\\n    * Notifications\\\\n    * Sliders\\\\n    * Steps\\\\n    * Tables\\\\n    * Theme | Headers\\\\n    * Typography\\\\n  * Guides\\\\n    * Spacing\\\\n    * Layout\\\\n  * Examples\\\\n    * Task\\\\n    * Card\\\\n    * Dashboard\\\\n    * Form\\\\n    * Music\\\\n    * Auth\\\\n    * Playground\\\\n    * Mail\\\\n    * Ticket\\\\n    * Scrollspy\\\\n  * Theme\\\\n\\\\n# MonsterUI\\\\n\\\\nMonsterUI is a UI framework for FastHTML for building beautiful web interfaces with minimal code. It combines the simplicity of Python with the power of Tailwind. Perfect for data scientists, ML engineers, and developers who want to quickly turn their Python code into polished web apps without the complexity of traditional UI frameworks. Follows semantic HTML patterns when possible.\\\\n\\\\nMonsterUI adds the following Tailwind-based libraries [Franken UI](https://franken-ui.dev/) and [DaisyUI](https://daisyui.com/) to FastHTML, as well as Python\\\\'s [Mistletoe](https://github.com/miyuchina/mistletoe) for Markdown, [HighlightJS](https://highlightjs.org/) for code highlighting, and [Katex](https://katex.org/) for latex support.\\\\n\\\\n# Getting Started\\\\n\\\\n## Installation\\\\n\\\\nTo install this library, uses\\\\n\\\\n`pip install MonsterUI`\\\\n\\\\n## Getting Started\\\\n\\\\n### TLDR\\\\n\\\\nRun `python file.py` on this to start:\\\\n\\\\n```\\\\nfrom fasthtml.common import *\\\\nfrom monsterui.all import *\\\\n\\\\n# Choose a theme color (blue, green, red, etc)\\\\nhdrs = Theme.blue.headers()\\\\n\\\\n# Create your app with the theme\\\\napp, rt = fast_app(hdrs=hdrs)\\\\n\\\\n@rt\\\\ndef index():\\\\n    socials = ((\\\\'github\\\\',\\\\'https://github.com/AnswerDotAI/MonsterUI\\\\'),\\\\n               (\\\\'twitter\\\\',\\\\'https://twitter.com/isaac_flath/\\\\'),\\\\n               (\\\\'linkedin\\\\',\\\\'https://www.linkedin.com/in/isaacflath/\\\\'))\\\\n    return Titled(\\\"Your First App\\\",\\\\n        Card(\\\\n            H1(\\\"Welcome!\\\"),\\\\n            P(\\\"Your first MonsterUI app\\\", cls=TextPresets.muted_sm),\\\\n            P(\\\"I\\\\'m excited to see what you build with MonsterUI!\\\"),\\\\n            footer=DivLAligned(*[UkIconLink(icon,href=url) for icon,url in socials])))\\\\n\\\\nserve()\\\\n\\\\n```\\\\n\\\\n## LLM context files\\\\n\\\\nUsing LLMs for development is a best practice way to get started and explore. While LLMs cannot code for you, they can be helpful assistants. You must check, refactor, test, and vet any code any LLM generates for you - but they are helpful productivity tools. Take a look inside the `llms.txt` file to see links to particularly useful context files!\\\\n\\\\n  * [llms.txt](https://raw.githubusercontent.com/AnswerDotAI/MonsterUI/refs/heads/main/docs/llms.txt): Links to what is included\\\\n  * [llms-ctx.txt](https://raw.githubusercontent.com/AnswerDotAI/MonsterUI/refs/heads/main/docs/llms-ctx.txt): MonsterUI Documentation Pages\\\\n  * [API list](https://raw.githubusercontent.com/AnswerDotAI/MonsterUI/refs/heads/main/docs/apilist.txt): API list for MonsterUI (included in llms-ctx.txt)\\\\n  * [llms-ctx-full.txt](https://raw.githubusercontent.com/AnswerDotAI/MonsterUI/refs/heads/main/docs/llms-ctx-full.txt): Full context that includes all api reference pages as markdown\\\\n\\\\nIn addition you can add `/md` (for markdown) to a url to get a markdown representation and `/rmd` for rendered markdown representation (nice for looking to see what would be put into context.\\\\n\\\\n### Step by Step\\\\n\\\\nTo get started, check out:\\\\n\\\\n  1. Start by importing the modules as follows:\\\\n\\\\n```\\\\nfrom fasthtml.common import *\\\\nfrom monsterui.all import *\\\\n\\\\n```\\\\n\\\\n  2. Instantiate the app with the MonsterUI headers\\\\n\\\\n```\\\\napp = FastHTML(hdrs=Theme.blue.headers())\\\\n\\\\n# Alternatively, using the fast_app method\\\\napp, rt = fast_app(hdrs=Theme.slate.headers())\\\\n\\\\n```\\\\n\\\\n> _The color option can be any of the theme options available out of the box_\\\\n\\\\n> `katex` and `highlightjs` are not included by default. To include them set `katex=True` or `highlightjs=True` when calling `.headers`. (i.e. `Theme.slate.headers(katex=True)`)*\\\\n\\\\nFrom here, you can explore the API Reference & examples to see how to implement the components. You can also check out these demo videos to as a quick start guide:\\\\n\\\\n  * MonsterUI [documentation page and Tutorial app](https://monsterui.answer.ai/tutorial_app)\\\\n  * Isaac & Hamel : [Building his website\\u2019s team page](https://youtu.be/22Jn46-mmM0)\\\\n  * Isaac & Audrey : [Building a blog](https://youtu.be/gVWAsywxLXE)\\\\n  * Isaac : [Building a blog](https://youtu.be/22NJgfAqgko)\\\\n\\\\nMore resources and improvements to the documentation will be added here soon!'\"\n",
    "}\n",
    "```\n",
    "\n",
    "</details>\n",
    "\n",
    "\n",
    "\n",
    "<details class='tool-usage-details'>\n",
    "\n",
    "```json\n",
    "{\n",
    "  \"id\": \"toolu_014LXdiGdEGeMLwueatN1RP1\",\n",
    "  \"call\": {\n",
    "    \"function\": \"read_url\",\n",
    "    \"arguments\": {\n",
    "      \"url\": \"https://monsterui.answer.ai/forms\"\n",
    "    }\n",
    "  },\n",
    "  \"result\": \"'Missing required field: o'\"\n",
    "}\n",
    "```\n",
    "\n",
    "</details>\n",
    "\n",
    "\n",
    "\n",
    "<details class='tool-usage-details'>\n",
    "\n",
    "```json\n",
    "{\n",
    "  \"id\": \"toolu_01YD4V1GFEuoEaiQqcz3NSFQ\",\n",
    "  \"call\": {\n",
    "    \"function\": \"read_url\",\n",
    "    \"arguments\": {\n",
    "      \"url\": \"https://monsterui.answer.ai/button\"\n",
    "    }\n",
    "  },\n",
    "  \"result\": \"'* Getting Started\\\\n    * Getting Started\\\\n    * Tutorial App\\\\n  * API Reference\\\\n    * Accordion | Link\\\\n    * Button | Link\\\\n    * Cards\\\\n    * Charts\\\\n    * Containers\\\\n    * Dividers\\\\n    * Forms\\\\n    * Html\\\\n    * Icons | Images\\\\n    * Layout\\\\n    * Lightbox\\\\n    * Lists\\\\n    * Loading\\\\n    * Markdown\\\\n    * Modals\\\\n    * Navigation\\\\n    * Notifications\\\\n    * Sliders\\\\n    * Steps\\\\n    * Tables\\\\n    * Theme | Headers\\\\n    * Typography\\\\n  * Guides\\\\n    * Spacing\\\\n    * Layout\\\\n  * Examples\\\\n    * Task\\\\n    * Card\\\\n    * Dashboard\\\\n    * Form\\\\n    * Music\\\\n    * Auth\\\\n    * Playground\\\\n    * Mail\\\\n    * Ticket\\\\n    * Scrollspy\\\\n  * Theme\\\\n\\\\n  * Getting Started\\\\n    * Getting Started\\\\n    * Tutorial App\\\\n  * API Reference\\\\n    * Accordion | Link\\\\n    * Button | Link\\\\n    * Cards\\\\n    * Charts\\\\n    * Containers\\\\n    * Dividers\\\\n    * Forms\\\\n    * Html\\\\n    * Icons | Images\\\\n    * Layout\\\\n    * Lightbox\\\\n    * Lists\\\\n    * Loading\\\\n    * Markdown\\\\n    * Modals\\\\n    * Navigation\\\\n    * Notifications\\\\n    * Sliders\\\\n    * Steps\\\\n    * Tables\\\\n    * Theme | Headers\\\\n    * Typography\\\\n  * Guides\\\\n    * Spacing\\\\n    * Layout\\\\n  * Examples\\\\n    * Task\\\\n    * Card\\\\n    * Dashboard\\\\n    * Form\\\\n    * Music\\\\n    * Auth\\\\n    * Playground\\\\n    * Mail\\\\n    * Ticket\\\\n    * Scrollspy\\\\n  * Theme\\\\n\\\\n# MonsterUI\\\\n\\\\nMonsterUI is a UI framework for FastHTML for building beautiful web interfaces with minimal code. It combines the simplicity of Python with the power of Tailwind. Perfect for data scientists, ML engineers, and developers who want to quickly turn their Python code into polished web apps without the complexity of traditional UI frameworks. Follows semantic HTML patterns when possible.\\\\n\\\\nMonsterUI adds the following Tailwind-based libraries [Franken UI](https://franken-ui.dev/) and [DaisyUI](https://daisyui.com/) to FastHTML, as well as Python\\\\'s [Mistletoe](https://github.com/miyuchina/mistletoe) for Markdown, [HighlightJS](https://highlightjs.org/) for code highlighting, and [Katex](https://katex.org/) for latex support.\\\\n\\\\n# Getting Started\\\\n\\\\n## Installation\\\\n\\\\nTo install this library, uses\\\\n\\\\n`pip install MonsterUI`\\\\n\\\\n## Getting Started\\\\n\\\\n### TLDR\\\\n\\\\nRun `python file.py` on this to start:\\\\n\\\\n```\\\\nfrom fasthtml.common import *\\\\nfrom monsterui.all import *\\\\n\\\\n# Choose a theme color (blue, green, red, etc)\\\\nhdrs = Theme.blue.headers()\\\\n\\\\n# Create your app with the theme\\\\napp, rt = fast_app(hdrs=hdrs)\\\\n\\\\n@rt\\\\ndef index():\\\\n    socials = ((\\\\'github\\\\',\\\\'https://github.com/AnswerDotAI/MonsterUI\\\\'),\\\\n               (\\\\'twitter\\\\',\\\\'https://twitter.com/isaac_flath/\\\\'),\\\\n               (\\\\'linkedin\\\\',\\\\'https://www.linkedin.com/in/isaacflath/\\\\'))\\\\n    return Titled(\\\"Your First App\\\",\\\\n        Card(\\\\n            H1(\\\"Welcome!\\\"),\\\\n            P(\\\"Your first MonsterUI app\\\", cls=TextPresets.muted_sm),\\\\n            P(\\\"I\\\\'m excited to see what you build with MonsterUI!\\\"),\\\\n            footer=DivLAligned(*[UkIconLink(icon,href=url) for icon,url in socials])))\\\\n\\\\nserve()\\\\n\\\\n```\\\\n\\\\n## LLM context files\\\\n\\\\nUsing LLMs for development is a best practice way to get started and explore. While LLMs cannot code for you, they can be helpful assistants. You must check, refactor, test, and vet any code any LLM generates for you - but they are helpful productivity tools. Take a look inside the `llms.txt` file to see links to particularly useful context files!\\\\n\\\\n  * [llms.txt](https://raw.githubusercontent.com/AnswerDotAI/MonsterUI/refs/heads/main/docs/llms.txt): Links to what is included\\\\n  * [llms-ctx.txt](https://raw.githubusercontent.com/AnswerDotAI/MonsterUI/refs/heads/main/docs/llms-ctx.txt): MonsterUI Documentation Pages\\\\n  * [API list](https://raw.githubusercontent.com/AnswerDotAI/MonsterUI/refs/heads/main/docs/apilist.txt): API list for MonsterUI (included in llms-ctx.txt)\\\\n  * [llms-ctx-full.txt](https://raw.githubusercontent.com/AnswerDotAI/MonsterUI/refs/heads/main/docs/llms-ctx-full.txt): Full context that includes all api reference pages as markdown\\\\n\\\\nIn addition you can add `/md` (for markdown) to a url to get a markdown representation and `/rmd` for rendered markdown representation (nice for looking to see what would be put into context.\\\\n\\\\n### Step by Step\\\\n\\\\nTo get started, check out:\\\\n\\\\n  1. Start by importing the modules as follows:\\\\n\\\\n```\\\\nfrom fasthtml.common import *\\\\nfrom monsterui.all import *\\\\n\\\\n```\\\\n\\\\n  2. Instantiate the app with the MonsterUI headers\\\\n\\\\n```\\\\napp = FastHTML(hdrs=Theme.blue.headers())\\\\n\\\\n# Alternatively, using the fast_app method\\\\napp, rt = fast_app(hdrs=Theme.slate.headers())\\\\n\\\\n```\\\\n\\\\n> _The color option can be any of the theme options available out of the box_\\\\n\\\\n> `katex` and `highlightjs` are not included by default. To include them set `katex=True` or `highlightjs=True` when calling `.headers`. (i.e. `Theme.slate.headers(katex=True)`)*\\\\n\\\\nFrom here, you can explore the API Reference & examples to see how to implement the components. You can also check out these demo videos to as a quick start guide:\\\\n\\\\n  * MonsterUI [documentation page and Tutorial app](https://monsterui.answer.ai/tutorial_app)\\\\n  * Isaac & Hamel : [Building his website\\u2019s team page](https://youtu.be/22Jn46-mmM0)\\\\n  * Isaac & Audrey : [Building a blog](https://youtu.be/gVWAsywxLXE)\\\\n  * Isaac : [Building a blog](https://youtu.be/22NJgfAqgko)\\\\n\\\\nMore resources and improvements to the documentation will be added here soon!'\"\n",
    "}\n",
    "```\n",
    "\n",
    "</details>\n",
    "\n",
    "Let me get the full context file that should have the API details:\n",
    "\n",
    "<details class='tool-usage-details'>\n",
    "\n",
    "```json\n",
    "{\n",
    "  \"id\": \"toolu_015DWbzocnNa4w73J7wHPFM5\",\n",
    "  \"call\": {\n",
    "    \"function\": \"read_url\",\n",
    "    \"arguments\": {\n",
    "      \"url\": \"https://raw.githubusercontent.com/AnswerDotAI/MonsterUI/refs/heads/main/docs/llms-ctx.txt\"\n",
    "    }\n",
    "  },\n",
    "  \"result\": \"'<project title=\\\"MonsterUI Documentation\\\">> MonsterUI is a python library which brings styling to python for FastHTML apps.<api reference><doc title=\\\"API List\\\" desc=\\\"Complete API Reference\\\"># monsterui Module Documentation\\\\n\\\\n## monsterui.core\\\\n\\\\n- `class ThemeRadii(Enum)`\\\\n    Members: none, sm, md, lg\\\\n\\\\n\\\\n- `class ThemeShadows`\\\\n\\\\n- `class ThemeFont`\\\\n\\\\n- `class Theme(Enum)`\\\\n    Selector to choose theme and get all headers needed for app.  Includes frankenui + tailwind + daisyui + highlight.js options\\\\n    Members: slate, stone, gray, neutral, red, rose, orange, green, blue, yellow, violet, zinc\\\\n\\\\n    - `headers(self, mode, icons, daisy, highlightjs, katex, apex_charts, radii, shadows, font)`\\\\n        Create frankenui and tailwind cdns\\\\n\\\\n    - `local_headers(self, mode, static_dir, icons, daisy, highlightjs, katex, apex_charts, radii, shadows, font)`\\\\n        Create headers using local files downloaded from CDNs\\\\n\\\\n\\\\n## monsterui.daisy\\\\n\\\\n- `class AlertT(Enum)`\\\\n    Alert styles from DaisyUI\\\\n    Members: info, success, warning, error\\\\n\\\\n\\\\n- `def Alert(*c, **kwargs)`\\\\n    Alert informs users about important events.\\\\n\\\\n- `class StepsT(Enum)`\\\\n    Options for Steps\\\\n    Members: vertical, horizonal\\\\n\\\\n\\\\n- `class StepT(Enum)`\\\\n    Step styles for LiStep\\\\n    Members: primary, secondary, accent, info, success, warning, error, neutral\\\\n\\\\n\\\\n- `def Steps(*li, **kwargs)`\\\\n    Creates a steps container\\\\n\\\\n- `def LiStep(*c, **kwargs)`\\\\n    Creates a step list item\\\\n\\\\n- `class LoadingT(Enum)`\\\\n    Members: spinner, dots, ring, ball, bars, infinity, xs, sm, md, lg\\\\n\\\\n\\\\n- `def Loading(cls, htmx_indicator, **kwargs)`\\\\n    Creates a loading animation component\\\\n\\\\n- `class ToastHT(Enum)`\\\\n    Horizontal position for Toast\\\\n    Members: start, center, end\\\\n\\\\n\\\\n- `class ToastVT(Enum)`\\\\n    Vertical position for Toast\\\\n    Members: top, middle, bottom\\\\n\\\\n\\\\n## monsterui.foundations\\\\n\\\\n> Data Structures and Utilties\\\\n\\\\n- `def stringify(o)`\\\\n    Converts input types into strings that can be passed to FT components\\\\n\\\\n- `class VEnum(Enum)`\\\\n    Members: \\\\n\\\\n    - `__str__(self)`\\\\n    - `__add__(self, other)`\\\\n    - `__radd__(self, other)`\\\\n\\\\n## monsterui.franken\\\\n\\\\n- `class TextT(Enum)`\\\\n    Text Styles from https://franken-ui.dev/docs/text\\\\n    Members: paragraph, lead, meta, gray, italic, xs, sm, lg, xl, light, normal, medium, bold, extrabold, muted, primary, secondary, success, warning, error, info, left, right, center, justify, start, end, top, middle, bottom, truncate, break_, nowrap, underline, highlight\\\\n\\\\n\\\\n- `class TextPresets(Enum)`\\\\n    Common Typography Presets\\\\n    Members: muted_sm, muted_lg, bold_sm, bold_lg, md_weight_sm, md_weight_muted\\\\n\\\\n\\\\n- `def CodeSpan(*c, **kwargs)`\\\\n    A CodeSpan with Styling\\\\n\\\\n- `def CodeBlock(*c, **kwargs)`\\\\n    CodeBlock with Styling\\\\n\\\\n- `def H1(*c, **kwargs)`\\\\n    H1 with styling and appropriate size\\\\n\\\\n- `def H2(*c, **kwargs)`\\\\n    H2 with styling and appropriate size\\\\n\\\\n- `def H3(*c, **kwargs)`\\\\n    H3 with styling and appropriate size\\\\n\\\\n- `def H4(*c, **kwargs)`\\\\n    H4 with styling and appropriate size\\\\n\\\\n- `def H5(*c, **kwargs)`\\\\n    H5 with styling and appropriate size\\\\n\\\\n- `def H6(*c, **kwargs)`\\\\n    H6 with styling and appropriate size\\\\n\\\\n- `def Subtitle(*c, **kwargs)`\\\\n    Styled muted_sm text designed to go under Headings and Titles\\\\n\\\\n- `def Q(*c, **kwargs)`\\\\n    Styled quotation mark\\\\n\\\\n- `def Em(*c, **kwargs)`\\\\n    Styled emphasis text\\\\n\\\\n- `def Strong(*c, **kwargs)`\\\\n    Styled strong text\\\\n\\\\n- `def I(*c, **kwargs)`\\\\n    Styled italic text\\\\n\\\\n- `def Small(*c, **kwargs)`\\\\n    Styled small text\\\\n\\\\n- `def Mark(*c, **kwargs)`\\\\n    Styled highlighted text\\\\n\\\\n- `def Del(*c, **kwargs)`\\\\n    Styled deleted text\\\\n\\\\n- `def Ins(*c, **kwargs)`\\\\n    Styled inserted text\\\\n\\\\n- `def Sub(*c, **kwargs)`\\\\n    Styled subscript text\\\\n\\\\n- `def Sup(*c, **kwargs)`\\\\n    Styled superscript text\\\\n\\\\n- `def Blockquote(*c, **kwargs)`\\\\n    Blockquote with Styling\\\\n\\\\n- `def Caption(*c, **kwargs)`\\\\n    Styled caption text\\\\n\\\\n- `def Cite(*c, **kwargs)`\\\\n    Styled citation text\\\\n\\\\n- `def Time(*c, **kwargs)`\\\\n    Styled time element\\\\n\\\\n- `def Address(*c, **kwargs)`\\\\n    Styled address element\\\\n\\\\n- `def Abbr(*c, **kwargs)`\\\\n    Styled abbreviation with dotted underline\\\\n\\\\n- `def Dfn(*c, **kwargs)`\\\\n    Styled definition term with italic and medium weight\\\\n\\\\n- `def Kbd(*c, **kwargs)`\\\\n    Styled keyboard input with subtle background\\\\n\\\\n- `def Samp(*c, **kwargs)`\\\\n    Styled sample output with subtle background\\\\n\\\\n- `def Var(*c, **kwargs)`\\\\n    Styled variable with italic monospace\\\\n\\\\n- `def Figure(*c, **kwargs)`\\\\n    Styled figure container with card-like appearance\\\\n\\\\n- `def Details(*c, **kwargs)`\\\\n    Styled details element\\\\n\\\\n- `def Summary(*c, **kwargs)`\\\\n    Styled summary element\\\\n\\\\n- `def Data(*c, **kwargs)`\\\\n    Styled data element\\\\n\\\\n- `def Meter(*c, **kwargs)`\\\\n    Styled meter element\\\\n\\\\n- `def S(*c, **kwargs)`\\\\n    Styled strikethrough text (different semantic meaning from Del)\\\\n\\\\n- `def U(*c, **kwargs)`\\\\n    Styled underline (for proper names in Chinese, proper spelling etc)\\\\n\\\\n- `def Output(*c, **kwargs)`\\\\n    Styled output element for form results\\\\n\\\\n- `def PicSumImg(h, w, id, grayscale, blur, **kwargs)`\\\\n    Creates a placeholder image using https://picsum.photos/\\\\n\\\\n- `def AccordionItem(title, *c)`\\\\n    Creates a single item for use within an Accordion component, handling title, content, and open state.\\\\n\\\\n- `def Accordion(*c, **kwargs)`\\\\n    Creates a styled Accordion container using accordion component.\\\\n\\\\n- `class ButtonT(Enum)`\\\\n    Options for styling Buttons\\\\n    Members: default, ghost, primary, secondary, destructive, text, link, xs, sm, lg, xl, icon\\\\n\\\\n\\\\n- `def Button(*c, **kwargs)`\\\\n    Button with Styling (defaults to `submit` for form submission)\\\\n\\\\n- `class ContainerT(Enum)`\\\\n    Max width container sizes from https://franken-ui.dev/docs/container\\\\n    Members: xs, sm, lg, xl, expand\\\\n\\\\n\\\\n- `class BackgroundT(Enum)`\\\\n    Members: muted, primary, secondary, default\\\\n\\\\n\\\\n- `def Container(*c, **kwargs)`\\\\n    Div to be used as a container that often wraps large sections or a page of content\\\\n\\\\n- `def Titled(title, *c, **kwargs)`\\\\n    Creates a standard page structure for titled page.  Main(Container(title, content))\\\\n\\\\n- `class DividerT(Enum)`\\\\n    Divider Styles from https://franken-ui.dev/docs/divider\\\\n    Members: icon, sm, vertical\\\\n\\\\n\\\\n- `def Divider(*c, **kwargs)`\\\\n    Divider with default styling and margin\\\\n\\\\n- `def DividerSplit(*c)`\\\\n    Creates a simple horizontal line divider with configurable thickness and vertical spacing\\\\n\\\\n- `def Article(*c, **kwargs)`\\\\n    A styled article container for blog posts or similar content\\\\n\\\\n- `def ArticleTitle(*c, **kwargs)`\\\\n    A title component for use within an Article\\\\n\\\\n- `def ArticleMeta(*c, **kwargs)`\\\\n    A metadata component for use within an Article showing things like date, author etc\\\\n\\\\n- `class SectionT(Enum)`\\\\n    Section styles from https://franken-ui.dev/docs/section\\\\n    Members: default, muted, primary, secondary, xs, sm, lg, xl, remove_vertical\\\\n\\\\n\\\\n- `def Section(*c, **kwargs)`\\\\n    Section with styling and margins\\\\n\\\\n- `def Form(*c, **kwargs)`\\\\n    A Form with default spacing between form elements\\\\n\\\\n- `def Fieldset(*c, **kwargs)`\\\\n    A Fieldset with default styling\\\\n\\\\n- `def Legend(*c, **kwargs)`\\\\n    A Legend with default styling\\\\n\\\\n- `def Input(*c, **kwargs)`\\\\n    An Input with default styling\\\\n\\\\n- `def Radio(*c, **kwargs)`\\\\n    A Radio with default styling\\\\n\\\\n- `def CheckboxX(*c, **kwargs)`\\\\n    A Checkbox with default styling\\\\n\\\\n- `def Range(*c, **kwargs)`\\\\n    A Range with default styling\\\\n\\\\n- `def TextArea(*c, **kwargs)`\\\\n    A Textarea with default styling\\\\n\\\\n- `def Switch(*c, **kwargs)`\\\\n    A Switch with default styling\\\\n\\\\n- `def Upload(*c, **kwargs)`\\\\n    A file upload component with default styling\\\\n\\\\n- `def UploadZone(*c, **kwargs)`\\\\n    A file drop zone component with default styling\\\\n\\\\n- `def FormLabel(*c, **kwargs)`\\\\n    A Label with default styling\\\\n\\\\n- `class LabelT(Enum)`\\\\n    Members: primary, secondary, destructive\\\\n\\\\n\\\\n- `def Label(*c, **kwargs)`\\\\n    FrankenUI labels, which look like pills\\\\n\\\\n- `def UkFormSection(title, description, *c)`\\\\n    A form section with a title, description and optional button\\\\n\\\\n- `def GenericLabelInput(label, lbl_cls, input_cls, container, cls, id, input_fn, **kwargs)`\\\\n    `Div(Label,Input)` component with Uk styling injected appropriately. Generally you should higher level API, such as `LabelInput` which is created for you in this library\\\\n\\\\n- `def LabelInput(label, lbl_cls, input_cls, cls, id, **kwargs)`\\\\n    A `FormLabel` and `Input` pair that provides default spacing and links/names them based on id\\\\n\\\\n- `def LabelRadio(label, lbl_cls, input_cls, container, cls, id, **kwargs)`\\\\n    A FormLabel and Radio pair that provides default spacing and links/names them based on id\\\\n\\\\n- `def LabelCheckboxX(label, lbl_cls, input_cls, container, cls, id, **kwargs)`\\\\n    A FormLabel and CheckboxX pair that provides default spacing and links/names them based on id\\\\n\\\\n- `def Options(*c)`\\\\n    Helper function to wrap things into `Option`s for use in `Select`\\\\n\\\\n- `def Select(*option, **kwargs)`\\\\n    Creates a select dropdown with uk styling and option for adding a search box\\\\n\\\\n- `def LabelSelect(*option, **kwargs)`\\\\n    A FormLabel and Select pair that provides default spacing and links/names them based on id\\\\n\\\\n- `@delegates(GenericLabelInput, but=[\\\\'input_fn\\\\', \\\\'cls\\\\']) def LabelRange(label, lbl_cls, input_cls, cls, id, value, min, max, step, label_range, **kwargs)`\\\\n    A FormLabel and Range pair that provides default spacing and links/names them based on id\\\\n\\\\n- `class AT(Enum)`\\\\n    Link styles from https://franken-ui.dev/docs/link\\\\n    Members: muted, text, reset, primary, classic\\\\n\\\\n\\\\n- `class ListT(Enum)`\\\\n    List styles using Tailwind CSS\\\\n    Members: disc, circle, square, decimal, hyphen, bullet, divider, striped\\\\n\\\\n\\\\n- `def ModalContainer(*c, **kwargs)`\\\\n    Creates a modal container that components go in\\\\n\\\\n- `def ModalDialog(*c, **kwargs)`\\\\n    Creates a modal dialog\\\\n\\\\n- `def ModalHeader(*c, **kwargs)`\\\\n    Creates a modal header\\\\n\\\\n- `def ModalBody(*c, **kwargs)`\\\\n    Creates a modal body\\\\n\\\\n- `def ModalFooter(*c, **kwargs)`\\\\n    Creates a modal footer\\\\n\\\\n- `def ModalTitle(*c, **kwargs)`\\\\n    Creates a modal title\\\\n\\\\n- `def ModalCloseButton(*c, **kwargs)`\\\\n    Creates a button that closes a modal with js\\\\n\\\\n- `def Modal(*c, **kwargs)`\\\\n    Creates a modal with the appropriate classes to put the boilerplate in the appropriate places for you\\\\n\\\\n- `def Placeholder(*c, **kwargs)`\\\\n    Creates a placeholder\\\\n\\\\n- `def Progress(*c, **kwargs)`\\\\n    Creates a progress bar\\\\n\\\\n- `def UkIcon(icon, height, width, stroke_width, cls, **kwargs)`\\\\n    Creates an icon using lucide icons\\\\n\\\\n- `def UkIconLink(icon, height, width, stroke_width, cls, button, **kwargs)`\\\\n    Creates an icon link using lucide icons\\\\n\\\\n- `def DiceBearAvatar(seed_name, h, w)`\\\\n    Creates an Avatar using https://dicebear.com/\\\\n\\\\n- `def Center(*c, **kwargs)`\\\\n    Centers contents both vertically and horizontally by default\\\\n\\\\n- `class FlexT(Enum)`\\\\n    Flexbox modifiers using Tailwind CSS\\\\n    Members: block, inline, left, center, right, between, around, stretch, top, middle, bottom, row, row_reverse, column, column_reverse, nowrap, wrap, wrap_reverse\\\\n\\\\n\\\\n- `def Grid(*div, **kwargs)`\\\\n    Creates a responsive grid layout with smart defaults based on content\\\\n\\\\n- `def DivFullySpaced(*c, **kwargs)`\\\\n    Creates a flex div with it\\\\'s components having as much space between them as possible\\\\n\\\\n- `def DivCentered(*c, **kwargs)`\\\\n    Creates a flex div with it\\\\'s components centered in it\\\\n\\\\n- `def DivLAligned(*c, **kwargs)`\\\\n    Creates a flex div with it\\\\'s components aligned to the left\\\\n\\\\n- `def DivRAligned(*c, **kwargs)`\\\\n    Creates a flex div with it\\\\'s components aligned to the right\\\\n\\\\n- `def DivVStacked(*c, **kwargs)`\\\\n    Creates a flex div with it\\\\'s components stacked vertically\\\\n\\\\n- `def DivHStacked(*c, **kwargs)`\\\\n    Creates a flex div with it\\\\'s components stacked horizontally\\\\n\\\\n- `class NavT(Enum)`\\\\n    Members: default, primary, secondary\\\\n\\\\n\\\\n- `def NavContainer(*li, **kwargs)`\\\\n    Creates a navigation container (useful for creating a sidebar navigation).  A Nav is a list (NavBar is something different)\\\\n\\\\n- `def NavParentLi(*nav_container, **kwargs)`\\\\n    Creates a navigation list item with a parent nav for nesting\\\\n\\\\n- `def NavDividerLi(*c, **kwargs)`\\\\n    Creates a navigation list item with a divider\\\\n\\\\n- `def NavHeaderLi(*c, **kwargs)`\\\\n    Creates a navigation list item with a header\\\\n\\\\n- `def NavSubtitle(*c, **kwargs)`\\\\n    Creates a navigation subtitle\\\\n\\\\n- `def NavCloseLi(*c, **kwargs)`\\\\n    Creates a navigation list item with a close button\\\\n\\\\n- `class ScrollspyT(Enum)`\\\\n    Members: underline, bold\\\\n\\\\n\\\\n- `def NavBar(*c)`\\\\n    Creates a responsive navigation bar with mobile menu support\\\\n\\\\n- `def SliderContainer(*c, **kwargs)`\\\\n    Creates a slider container\\\\n\\\\n- `def SliderItems(*c, **kwargs)`\\\\n    Creates a slider items container\\\\n\\\\n- `def SliderNav(cls, prev_cls, next_cls, **kwargs)`\\\\n    Navigation arrows for Slider component\\\\n\\\\n- `def Slider(*c, **kwargs)`\\\\n    Creates a slider with optional navigation arrows\\\\n\\\\n- `def DropDownNavContainer(*li, **kwargs)`\\\\n    A Nav that is part of a DropDown\\\\n\\\\n- `def TabContainer(*li, **kwargs)`\\\\n    A TabContainer where children will be different tabs\\\\n\\\\n- `class CardT(Enum)`\\\\n    Card styles from UIkit\\\\n    Members: default, primary, secondary, destructive, hover\\\\n\\\\n\\\\n- `def CardTitle(*c, **kwargs)`\\\\n    Creates a card title\\\\n\\\\n- `def CardHeader(*c, **kwargs)`\\\\n    Creates a card header\\\\n\\\\n- `def CardBody(*c, **kwargs)`\\\\n    Creates a card body\\\\n\\\\n- `def CardFooter(*c, **kwargs)`\\\\n    Creates a card footer\\\\n\\\\n- `def CardContainer(*c, **kwargs)`\\\\n    Creates a card container\\\\n\\\\n- `def Card(*c, **kwargs)`\\\\n    Creates a Card with a header, body, and footer\\\\n\\\\n- `class TableT(Enum)`\\\\n    Members: divider, striped, hover, sm, lg, justify, middle, responsive\\\\n\\\\n\\\\n- `def Table(*c, **kwargs)`\\\\n    Creates a table\\\\n\\\\n- `def TableFromLists(header_data, body_data, footer_data, header_cell_render, body_cell_render, footer_cell_render, cls, sortable, **kwargs)`\\\\n    Creates a Table from a list of header data and a list of lists of body data\\\\n\\\\n- `def TableFromDicts(header_data, body_data, footer_data, header_cell_render, body_cell_render, footer_cell_render, cls, sortable, **kwargs)`\\\\n    Creates a Table from a list of header data and a list of dicts of body data\\\\n\\\\n- `def apply_classes(html_str, class_map, class_map_mods)`\\\\n    Apply classes to html string\\\\n\\\\n- `class FrankenRenderer`\\\\n    Custom renderer for Franken UI that handles image paths\\\\n\\\\n    - `def __init__(self, *args, **kwargs)`\\\\n    - `def render_image(self, token)`\\\\n        Modify image paths if they\\\\'re relative and self.img_dir is specified\\\\n\\\\n\\\\n- `def render_md(md_content, class_map, class_map_mods, img_dir, renderer)`\\\\n    Renders markdown using mistletoe and lxml with custom image handling\\\\n\\\\n- `def ThemePicker(color, radii, shadows, font, mode, cls, custom_themes)`\\\\n    Theme picker component with configurable sections\\\\n\\\\n- `def LightboxContainer(*lightboxitem, **kwargs)`\\\\n    Lightbox container that will hold `LightboxItems`\\\\n\\\\n- `def LightboxItem(*c, **kwargs)`\\\\n    Anchor tag with appropriate structure to go inside a `LightBoxContainer`\\\\n\\\\n- `def ApexChart(**kws)`\\\\n    Apex chart component\\\\n\\\\n- `def ScrollSpy(headings, active_styles, target_sel, **kwargs)`\\\\n    Standalone javascript scrollspy implementation, mapping heading levels into link/sections\\\\n\\\\n- `def LoaderButton(*c, **kwargs)`\\\\n    A button that displays a loading spinner when an HTMX request is in flight\\\\n\\\\n- `def ToggleBtn(*c, **kwargs)`\\\\n    Styled toggle button component, acts like a switch\\\\n</doc></api reference><examples><doc title=\\\"Dashboard\\\" desc=\\\"FrankenUI Dashboard Example built with MonsterUI (original design by ShadCN)\\\">\\\"\\\"\\\"FrankenUI Dashboard Example built with MonsterUI (original design by ShadCN)\\\"\\\"\\\"\\\\n\\\\nfrom fasthtml.common import * # Bring in all of fasthtml\\\\nimport fasthtml.common as fh # Used to get unstyled components\\\\nfrom monsterui.all import * # Bring in all of monsterui, including shadowing fasthtml components with styled components\\\\nfrom fasthtml.svg import *\\\\nimport numpy as np\\\\nimport plotly.express as px\\\\nimport pandas as pd\\\\nimport numpy as np\\\\n\\\\napp, rt = fast_app(hdrs=Theme.blue.headers())\\\\n\\\\ndef generate_chart(num_points=30):\\\\n    df = pd.DataFrame({\\\\n        \\\\'Date\\\\': pd.date_range(\\\\'2024-01-01\\\\', periods=num_points),\\\\n        \\\\'Revenue\\\\': np.random.normal(100, 10, num_points).cumsum(),\\\\n        \\\\'Users\\\\': np.random.normal(80, 8, num_points).cumsum(), \\\\n        \\\\'Growth\\\\': np.random.normal(60, 6, num_points).cumsum()})\\\\n    \\\\n    fig = px.line(df, x=\\\\'Date\\\\', y=[\\\\'Revenue\\\\', \\\\'Users\\\\', \\\\'Growth\\\\'],  template=\\\\'plotly_white\\\\', line_shape=\\\\'spline\\\\')\\\\n    \\\\n    fig.update_traces(mode=\\\\'lines+markers\\\\')\\\\n    fig.update_layout(\\\\n        margin=dict(l=20, r=20, t=20, b=20), hovermode=\\\\'x unified\\\\',\\\\n        showlegend=True, legend=dict(orientation=\\\\'h\\\\', yanchor=\\\\'bottom\\\\', y=1.02,  xanchor=\\\\'right\\\\', x=1),\\\\n        plot_bgcolor=\\\\'rgba(0,0,0,0)\\\\', paper_bgcolor=\\\\'rgba(0,0,0,0)\\\\',\\\\n        xaxis=dict(showgrid=True, gridwidth=1, gridcolor=\\\\'rgba(0,0,0,0.1)\\\\'),\\\\n        yaxis=dict(showgrid=True, gridwidth=1, gridcolor=\\\\'rgba(0,0,0,0.1)\\\\'))\\\\n    \\\\n    return fig.to_html(include_plotlyjs=True, full_html=False, config={\\\\'displayModeBar\\\\': False})\\\\n\\\\ndef InfoCard(title, value, change): return Card(H3(value),P(change, cls=TextPresets.muted_sm), header = H4(title))\\\\n\\\\nrev = InfoCard(\\\"Total Revenue\\\", \\\"$45,231.89\\\", \\\"+20.1% from last month\\\")\\\\nsub = InfoCard(\\\"Subscriptions\\\", \\\"+2350\\\", \\\"+180.1% from last month\\\")\\\\nsal = InfoCard(\\\"Sales\\\", \\\"+12,234\\\", \\\"+19% from last month\\\")\\\\nact = InfoCard(\\\"Active Now\\\", \\\"+573\\\", \\\"+201 since last hour\\\")\\\\n\\\\ninfo_card_data = [(\\\"Total Revenue\\\", \\\"$45,231.89\\\", \\\"+20.1% from last month\\\"),\\\\n                   (\\\"Subscriptions\\\", \\\"+2350\\\", \\\"+180.1% from last month\\\"),\\\\n                   (\\\"Sales\\\", \\\"+12,234\\\", \\\"+19% from last month\\\"),\\\\n                   (\\\"Active Now\\\", \\\"+573\\\", \\\"+201 since last hour\\\")]\\\\n\\\\ntop_info_row = Grid(*[InfoCard(*row) for row in info_card_data])\\\\n\\\\ndef AvatarItem(name, email, amount):\\\\n    return DivFullySpaced(\\\\n        DivLAligned(\\\\n            DiceBearAvatar(name, 9,9),\\\\n            Div(Strong(name, cls=TextT.sm), \\\\n                Address(A(email,href=f\\\\'mailto:{email}\\\\')))),\\\\n        fh.Data(amount, cls=\\\"ml-auto font-medium\\\", value=amount[2:]))\\\\n\\\\nrecent_sales = Card(\\\\n    Div(cls=\\\"space-y-8\\\")(\\\\n        *[AvatarItem(n,e,d) for (n,e,d) in (\\\\n            (\\\"Olivia Martin\\\",   \\\"olivia.martin@email.com\\\",   \\\"+$1,999.00\\\"),\\\\n            (\\\"Jackson Lee\\\",     \\\"jackson.lee@email.com\\\",     \\\"+$39.00\\\"),\\\\n            (\\\"Isabella Nguyen\\\", \\\"isabella.nguyen@email.com\\\", \\\"+$299.00\\\"),\\\\n            (\\\"William Kim\\\",     \\\"will@email.com\\\",            \\\"+$99.00\\\"),\\\\n            (\\\"Sofia Davis\\\",     \\\"sofia.davis@email.com\\\",     \\\"+$39.00\\\"))]),\\\\n    header=Div(H3(\\\"Recent Sales\\\"),Subtitle(\\\"You made 265 sales this month.\\\")),\\\\n    cls=\\\\'col-span-3\\\\')\\\\n\\\\nteams = [[\\\"Alicia Koch\\\"],[\\\\'Acme Inc\\\\', \\\\'Monster Inc.\\\\'],[\\\\'Create a Team\\\\']]\\\\n\\\\nopt_hdrs = [\\\"Personal\\\", \\\"Team\\\", \\\"\\\"]\\\\n\\\\nteam_dropdown = Select(\\\\n    Optgroup(Option(A(\\\"Alicia Koch\\\")), label=\\\"Personal Account\\\"),\\\\n    Optgroup(Option(A(\\\"Acme Inc\\\")), Option(A(\\\"Monster Inc.\\\")), label=\\\"Teams\\\"),\\\\n    Option(A(\\\"Create a Team\\\")),\\\\n    cls=\\\\'flex items-center\\\\')\\\\n\\\\nhotkeys = [(\\\\'Profile\\\\',\\\\'\\u21e7\\u2318P\\\\'),(\\\\'Billing\\\\',\\\\'\\u2318B\\\\'),(\\\\'Settings\\\\',\\\\'\\u2318S\\\\'),(\\\\'New Team\\\\', \\\\'\\\\'), (\\\\'Logout\\\\', \\\\'\\\\')]\\\\n\\\\ndef NavSpacedLi(t,s): return NavCloseLi(A(DivFullySpaced(P(t),P(s,cls=TextPresets.muted_sm))))\\\\n\\\\navatar_dropdown = Div(\\\\n      DiceBearAvatar(\\\\'Alicia Koch\\\\',8,8),\\\\n      DropDownNavContainer(\\\\n          NavHeaderLi(\\\\'sveltecult\\\\',NavSubtitle(\\\"leader@sveltecult.com\\\")),\\\\n     <TRUNCATED>\"\n",
    "}\n",
    "```\n",
    "\n",
    "</details>\n",
    "\n",
    "Based on the MonsterUI docs, here's what you need:\n",
    "\n",
    "**1) To put elements on the same line:** Wrap them in `DivLAligned()` or `DivHStacked()` - both create horizontally arranged flex containers.\n",
    "\n",
    "**2) For a primary button:** Add `cls=ButtonT.primary` to your Button.\n",
    "\n",
    "Try updating your form like this:\n",
    "\n",
    "```python\n",
    "form = Form(\n",
    "    DivLAligned(\n",
    "        Input(placeholder=\"Your Prompt\"),\n",
    "        Button(\"Submit\", type='submit', cls=ButtonT.primary)\n",
    "    )\n",
    ")\n",
    "```\n",
    "\n",
    "Does that give you the look you're going for?"
   ]
  },
  {
   "cell_type": "code",
   "execution_count": null,
   "id": "6b713150",
   "metadata": {
    "time_run": "4:43:12p"
   },
   "outputs": [
    {
     "data": {
      "text/html": [
       "<form enctype=\"multipart/form-data\" class=\"space-y-3\">  <div class=\"flex justify-start items-center space-x-4\">\n",
       "    <input placeholder=\"Your Prompt\" class=\"uk-input \">\n",
       "<button type=\"submit\" class=\"uk-btn uk-btn-primary\">Submit</button>  </div>\n",
       "</form>"
      ],
      "text/plain": [
       "<IPython.core.display.HTML object>"
      ]
     },
     "metadata": {},
     "output_type": "display_data"
    }
   ],
   "source": [
    "form = Form(\n",
    "    DivLAligned(\n",
    "        Input(placeholder=\"Your Prompt\"),\n",
    "        Button(\"Submit\", type='submit', cls=ButtonT.primary),\n",
    "    )\n",
    ")\n",
    "show(form)"
   ]
  },
  {
   "cell_type": "markdown",
   "id": "263ef6e8",
   "metadata": {},
   "source": [
    "There we go! Even though MonsterUI is a relatively new and unknown library, solveit is able to search and figure out how to use it - at least for some things. Now let's make a few tweaks to show the different ways you can apply styling:"
   ]
  },
  {
   "cell_type": "code",
   "execution_count": null,
   "id": "e6d010f8",
   "metadata": {
    "time_run": "9:32:20p"
   },
   "outputs": [
    {
     "data": {
      "text/html": [
       "<form enctype=\"multipart/form-data\" class=\"space-y-3\">  <div class=\"flex justify-start items-center space-x-4\" style=\"max-width: 600px\">\n",
       "    <input placeholder=\"Your Prompt\" class=\"uk-input \">\n",
       "<button type=\"submit\" class=\"uk-btn uk-btn-primary rounded-lg\">Generate</button>  </div>\n",
       "</form>"
      ],
      "text/plain": [
       "<IPython.core.display.HTML object>"
      ]
     },
     "metadata": {},
     "output_type": "display_data"
    }
   ],
   "source": [
    "form = Form(\n",
    "    DivLAligned(\n",
    "        Input(placeholder=\"Your Prompt\"),\n",
    "        Button(\"Generate\", type='submit', cls=ButtonT.primary+\"rounded-lg\"), # Modifying the class by adding an extra tailwind class for rounded borders\n",
    "        style=\"max-width: 600px\" # Adding styling manually - you can use bits of CSS if you happen to know them, or ask AI :)\n",
    "    )\n",
    ")\n",
    "show(form)"
   ]
  },
  {
   "cell_type": "markdown",
   "id": "f76b0901",
   "metadata": {},
   "source": [
    "To set the total max width, we used a bit of CSS in the `style` attribute of the div. This is nice for minimal tweaks, but can easily get repetitive and cluttered. \n",
    "\n",
    "To add rounded corners, we added an extra class to the class string (`cls`). MonsterUI's built-in styles map to strings, and we can modify them to add our own tweaks:"
   ]
  },
  {
   "cell_type": "code",
   "execution_count": null,
   "id": "d0eec829",
   "metadata": {
    "time_run": "9:35:08p"
   },
   "outputs": [
    {
     "data": {
      "text/plain": [
       "'uk-btn-primary rounded-lg'"
      ]
     },
     "execution_count": 65,
     "metadata": {},
     "output_type": "execute_result"
    }
   ],
   "source": [
    "ButtonT.primary+\"rounded-lg\""
   ]
  },
  {
   "cell_type": "markdown",
   "id": "95cb2239",
   "metadata": {},
   "source": [
    "Unfortunately, customizing things in this way can require knowing at least a bit about HTML and CSS AND tailwind AND uikit AND monsterui. Fortunately, AI is good at most of these and can search to fill in the gaps. Plus we can show it screenshots (Use `CMD`+`Shift`+`,` to include the output of the previous cell as a rendered screenshot, or manually paste in an image) to show it the current version and ask for tweaks. Let's let it rip and see if we can make this the blingiest form ever:"
   ]
  },
  {
   "cell_type": "markdown",
   "id": "27601b93",
   "metadata": {
    "collapsed": true,
    "solveit_ai": true
   },
   "source": [
    "Alright solveit, make this form EPIC! Centered, rounded to the max, colorful, multiple borders, a label, maybe some shadows and gradients. Show us your power!\n",
    "\n",
    "##### 🤖Reply🤖<!-- SOLVEIT_SEPARATOR_7f3a9b2c -->\n",
    "\n",
    "Alright, let's make this EPIC! Here's a super styled version:\n",
    "\n",
    "```python\n",
    "form = Form(\n",
    "    DivCentered(\n",
    "        Div(\n",
    "            FormLabel(\"✨ AI Image Generator ✨\", cls=\"text-2xl font-bold text-center mb-4 bg-gradient-to-r from-purple-600 via-pink-500 to-blue-500 bg-clip-text text-transparent\"),\n",
    "            DivLAligned(\n",
    "                Input(placeholder=\"Describe your vision...\", cls=\"flex-1 rounded-full border-4 border-purple-400 focus:border-pink-500 shadow-lg px-6\"),\n",
    "                Button(\"Generate\", type='submit', cls=ButtonT.primary+\"rounded-full shadow-2xl border-4 border-yellow-300 bg-gradient-to-r from-purple-500 to-pink-500 hover:scale-110 transition-transform\"),\n",
    "                cls=\"gap-4\"\n",
    "            ),\n",
    "            cls=\"p-8 rounded-3xl bg-gradient-to-br from-blue-50 via-purple-50 to-pink-50 border-8 border-double border-purple-300 shadow-2xl\",\n",
    "            style=\"max-width: 700px\"\n",
    "        ),\n",
    "        cls=\"min-h-[300px]\"\n",
    "    )\n",
    ")\n",
    "show(form)\n",
    "```\n",
    "\n",
    "This adds:\n",
    "- Gradient text label with emoji\n",
    "- Rounded pill shapes everywhere\n",
    "- Multiple colorful borders (double border on container, thick borders on input/button)\n",
    "- Gradient backgrounds on the container and button\n",
    "- Big shadows\n",
    "- Hover animation on the button\n",
    "\n",
    "Give it a try and let me know what you think! Want me to dial anything up or down?"
   ]
  },
  {
   "cell_type": "code",
   "execution_count": null,
   "id": "57cad08d",
   "metadata": {
    "time_run": "9:39:28p"
   },
   "outputs": [
    {
     "data": {
      "text/html": [
       "<form enctype=\"multipart/form-data\" class=\"space-y-3\">  <div class=\"flex flex-col items-center justify-center min-h-[300px]\">\n",
       "    <div class=\"p-8 rounded-3xl bg-gradient-to-br from-blue-50 via-purple-50 to-pink-50 border-8 border-double border-purple-300 shadow-2xl\" style=\"max-width: 700px\">\n",
       "<label class=\"uk-form-label text-2xl font-bold text-center mb-4 bg-gradient-to-r from-purple-600 via-pink-500 to-blue-500 bg-clip-text text-transparent\">✨ AI Image Generator ✨</label>      <div class=\"flex justify-start items-center gap-4\">\n",
       "        <input placeholder=\"Describe your vision...\" class=\"uk-input flex-1 rounded-full border-4 border-purple-400 focus:border-pink-500 shadow-lg px-6\">\n",
       "<button type=\"submit\" class=\"uk-btn uk-btn-primary rounded-full shadow-2xl border-4 border-yellow-300 bg-gradient-to-r from-purple-500 to-pink-500 hover:scale-110 transition-transform\">Generate</button>      </div>\n",
       "    </div>\n",
       "  </div>\n",
       "</form>"
      ],
      "text/plain": [
       "<IPython.core.display.HTML object>"
      ]
     },
     "metadata": {},
     "output_type": "display_data"
    }
   ],
   "source": [
    "form = Form(\n",
    "    DivCentered(\n",
    "        Div(\n",
    "            FormLabel(\"✨ AI Image Generator ✨\", cls=\"text-2xl font-bold text-center mb-4 bg-gradient-to-r from-purple-600 via-pink-500 to-blue-500 bg-clip-text text-transparent\"),\n",
    "            DivLAligned(\n",
    "                Input(placeholder=\"Describe your vision...\", cls=\"flex-1 rounded-full border-4 border-purple-400 focus:border-pink-500 shadow-lg px-6\"),\n",
    "                Button(\"Generate\", type='submit', cls=ButtonT.primary+\"rounded-full shadow-2xl border-4 border-yellow-300 bg-gradient-to-r from-purple-500 to-pink-500 hover:scale-110 transition-transform\"),\n",
    "                cls=\"gap-4\"\n",
    "            ),\n",
    "            cls=\"p-8 rounded-3xl bg-gradient-to-br from-blue-50 via-purple-50 to-pink-50 border-8 border-double border-purple-300 shadow-2xl\",\n",
    "            style=\"max-width: 700px\"\n",
    "        ),\n",
    "        cls=\"min-h-[300px]\"\n",
    "    )\n",
    ")\n",
    "show(form)"
   ]
  },
  {
   "cell_type": "markdown",
   "id": "25f2faad",
   "metadata": {},
   "source": [
    "OMG, such ✨sparkle✨. As you can see, it's easy to go overboard. But also, AI is an incredibly capable tool for helping you get around styling even if you don't want to memorize all possible tailwind classes. You can always ask how pieces work, and move back to minimal examples to check your understanding."
   ]
  },
  {
   "cell_type": "markdown",
   "id": "515d7a10",
   "metadata": {
    "solveit_ai": true
   },
   "source": [
    "Can you explain shadows specifically? Let's just write \"Hello\" in a box with a shadow to test it out.\n",
    "\n",
    "##### 🤖Reply🤖<!-- SOLVEIT_SEPARATOR_7f3a9b2c -->\n",
    "\n",
    "Sure! Shadows in Tailwind use the `shadow-*` classes. Let me show you the basics:\n",
    "\n",
    "```python\n",
    "Div(\"Hello\", cls=\"shadow-lg p-4 border\")\n",
    "```\n",
    "\n",
    "The main shadow classes are:\n",
    "- `shadow-sm` - subtle shadow\n",
    "- `shadow` - default shadow\n",
    "- `shadow-lg` - larger shadow\n",
    "- `shadow-xl` - extra large\n",
    "- `shadow-2xl` - huge shadow\n",
    "\n",
    "Try running that code and then experiment by changing `shadow-lg` to the other options. What do you notice about the differences?"
   ]
  },
  {
   "cell_type": "code",
   "execution_count": null,
   "id": "f1533124",
   "metadata": {
    "time_run": "9:42:14p"
   },
   "outputs": [
    {
     "data": {
      "text/html": [
       "<div class=\"shadow-2xl p-12 border\">Hello</div>\n"
      ],
      "text/plain": [
       "<IPython.core.display.HTML object>"
      ]
     },
     "metadata": {},
     "output_type": "display_data"
    }
   ],
   "source": [
    "show(Div(\"Hello\", cls=\"shadow-2xl p-12 border\"))"
   ]
  },
  {
   "cell_type": "markdown",
   "id": "555cdf6d",
   "metadata": {},
   "source": [
    "# Conclusions\n",
    "\n"
   ]
  }
 ],
 "metadata": {
  "solveit_dialog_mode": "learning",
  "solveit_ver": 2
 },
 "nbformat": 4,
 "nbformat_minor": 5
}
